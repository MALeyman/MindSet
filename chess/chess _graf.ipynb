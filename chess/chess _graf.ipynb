{
 "cells": [
  {
   "cell_type": "markdown",
   "id": "5ac930c2",
   "metadata": {},
   "source": [
    "# Предсказание  следующего хода"
   ]
  },
  {
   "cell_type": "markdown",
   "id": "a6f3af0b",
   "metadata": {},
   "source": [
    "K/k — король  \n",
    "\n",
    "Q/q — ферзь  \n",
    "\n",
    "R/r — ладья  \n",
    "\n",
    "B/b — слон  \n",
    "\n",
    "N/n — конь  \n",
    "\n",
    "P/p — пешка  "
   ]
  },
  {
   "cell_type": "markdown",
   "id": "52726270",
   "metadata": {},
   "source": [
    "#### Расшифровка записи\n",
    "\n",
    "7k/5p1p/p2p1Pr1/1p4pQ/8/P1P5/2pr3P/2R2K2 w - - 0 1  \n",
    "\n",
    "w : ход белых  \n",
    "\n",
    "— : рокировка невозможна  \n",
    "\n",
    "— : нет возможности взятия на проходе  \n",
    "\n",
    "0 : 0 полуходов прошло с последнего хода пешки или взятия  \n",
    "\n",
    "1 : первый полный ход партии (начало)  "
   ]
  },
  {
   "cell_type": "code",
   "execution_count": 2,
   "id": "c89f2585",
   "metadata": {},
   "outputs": [],
   "source": [
    "path_dataset_1 = 'data/fens_training_set.csv'\n",
    "\n",
    "path_dataset_2 = 'data/fens_processed_no_turn.csv'"
   ]
  },
  {
   "cell_type": "markdown",
   "id": "ebb17a6b",
   "metadata": {},
   "source": [
    "## 2. Датасет"
   ]
  },
  {
   "cell_type": "code",
   "execution_count": null,
   "id": "e66d5d8a",
   "metadata": {},
   "outputs": [
    {
     "name": "stdout",
     "output_type": "stream",
     "text": [
      "torch.Size([2048, 17])\n",
      "torch.Size([2, 13440])\n",
      "torch.Size([32])\n"
     ]
    }
   ],
   "source": [
    "from utils.dataset import ChessGNNDataset\n",
    "import torch\n",
    "\n",
    "\n",
    "from torch_geometric.loader import DataLoader\n",
    "\n",
    "dataset = ChessGNNDataset(path_dataset_2)\n",
    "loader = DataLoader(dataset, batch_size=32, shuffle=True)\n",
    "\n",
    "for data in loader:\n",
    "    print(data.x.shape)  # [batch_size*64, 17]\n",
    "    print(data.edge_index.shape)  # [2, num_edges]\n",
    "    print(data.y.shape)  # [batch_size]\n",
    "    break\n",
    "\n"
   ]
  },
  {
   "cell_type": "markdown",
   "id": "2b33ce34",
   "metadata": {},
   "source": [
    "## 3. Модель"
   ]
  },
  {
   "cell_type": "code",
   "execution_count": null,
   "id": "7b9b86f8",
   "metadata": {},
   "outputs": [],
   "source": [
    "from torch_geometric.nn import GATConv, global_mean_pool\n",
    "import torch.nn as nn\n",
    "import torch.nn.functional as F\n",
    "\n",
    "class GATChessGNN(nn.Module):\n",
    "    def __init__(self, in_channels=17, hidden_channels=64, num_layers=2, num_classes=4096, heads=4, dropout=0.6):\n",
    "        super().__init__()\n",
    "        self.convs = nn.ModuleList()\n",
    "        self.convs.append(GATConv(in_channels, hidden_channels, heads=heads))\n",
    "        for _ in range(num_layers - 1):\n",
    "            self.convs.append(GATConv(hidden_channels * heads, hidden_channels, heads=heads))\n",
    "        self.fc1 = nn.Linear(hidden_channels * heads, 256)\n",
    "        self.fc2 = nn.Linear(256, num_classes)\n",
    "        self.dropout = dropout\n",
    "\n",
    "    def forward(self, x, edge_index, batch):\n",
    "        for conv in self.convs:\n",
    "            x = conv(x, edge_index)\n",
    "            x = F.elu(x)\n",
    "            x = F.dropout(x, p=self.dropout, training=self.training)\n",
    "        x = global_mean_pool(x, batch)\n",
    "        x = F.relu(self.fc1(x))\n",
    "        x = F.dropout(x, p=self.dropout, training=self.training)\n",
    "        out = self.fc2(x)\n",
    "        return out\n"
   ]
  },
  {
   "cell_type": "code",
   "execution_count": 13,
   "id": "0d7a3abd",
   "metadata": {},
   "outputs": [
    {
     "data": {
      "text/plain": [
       "DataBatch(x=[2048, 17], edge_index=[2, 13440], y=[32], batch=[2048], ptr=[33])"
      ]
     },
     "execution_count": 13,
     "metadata": {},
     "output_type": "execute_result"
    }
   ],
   "source": [
    "data"
   ]
  },
  {
   "cell_type": "code",
   "execution_count": null,
   "id": "182a0d63",
   "metadata": {},
   "outputs": [
    {
     "name": "stdout",
     "output_type": "stream",
     "text": [
      "torch.Size([32, 4096])\n"
     ]
    }
   ],
   "source": [
    "from utils.models import ChessNetMultiInput\n",
    "\n",
    "model = GATChessGNN(in_channels=17)\n",
    "\n",
    "logits = model(data.x, data.edge_index, data.batch)\n",
    "\n",
    "print(logits.shape)  # [batch_size, 4096]\n"
   ]
  },
  {
   "cell_type": "code",
   "execution_count": 15,
   "id": "bac1323c",
   "metadata": {},
   "outputs": [
    {
     "data": {
      "text/plain": [
       "tensor([[-0.0048, -0.0315, -0.0566,  ..., -0.0585, -0.0461, -0.0286],\n",
       "        [ 0.0084, -0.0571, -0.0751,  ..., -0.0339, -0.0490, -0.0295],\n",
       "        [-0.0358, -0.0776, -0.0492,  ..., -0.0233, -0.0518, -0.0013],\n",
       "        ...,\n",
       "        [-0.1083, -0.0679, -0.0185,  ..., -0.1084, -0.0604, -0.0379],\n",
       "        [ 0.0046, -0.0442, -0.0425,  ..., -0.0439, -0.0523, -0.0012],\n",
       "        [-0.0234, -0.0758, -0.0607,  ...,  0.0049, -0.0356,  0.0252]],\n",
       "       grad_fn=<AddmmBackward0>)"
      ]
     },
     "execution_count": 15,
     "metadata": {},
     "output_type": "execute_result"
    }
   ],
   "source": [
    "logits"
   ]
  },
  {
   "cell_type": "markdown",
   "id": "93155d67",
   "metadata": {},
   "source": [
    "## Тренировка"
   ]
  },
  {
   "cell_type": "code",
   "execution_count": 17,
   "id": "5c17d2d3",
   "metadata": {},
   "outputs": [],
   "source": [
    "import torch\n",
    "from torch.utils.data import Subset\n",
    "from torch_geometric.loader import DataLoader\n",
    "\n",
    "def create_gnn_data_loaders_from_csv(csv_file, batch_size=32, val_split=0.2):\n",
    "    dataset = ChessGNNDataset(csv_file)\n",
    "\n",
    "    dataset_size = len(dataset)\n",
    "    indices = torch.randperm(dataset_size)\n",
    "    split = int(dataset_size * (1 - val_split))\n",
    "\n",
    "    train_indices = indices[:split]\n",
    "    val_indices = indices[split:]\n",
    "\n",
    "    train_subset = Subset(dataset, train_indices)\n",
    "    val_subset = Subset(dataset, val_indices)\n",
    "\n",
    "    train_loader = DataLoader(train_subset, batch_size=batch_size, shuffle=True, drop_last=True)\n",
    "    val_loader = DataLoader(val_subset, batch_size=batch_size, shuffle=False)\n",
    "\n",
    "    return train_loader, val_loader\n"
   ]
  },
  {
   "cell_type": "code",
   "execution_count": null,
   "id": "a3890167",
   "metadata": {},
   "outputs": [],
   "source": [
    "train_loader, val_loader = create_gnn_data_loaders_from_csv(path_dataset_2, batch_size=2048, val_split=0.3)\n"
   ]
  },
  {
   "cell_type": "code",
   "execution_count": null,
   "id": "f55e016e",
   "metadata": {},
   "outputs": [
    {
     "data": {
      "text/plain": [
       "GATChessGNN(\n",
       "  (convs): ModuleList(\n",
       "    (0): GATConv(17, 64, heads=4)\n",
       "    (1): GATConv(256, 64, heads=4)\n",
       "  )\n",
       "  (fc1): Linear(in_features=256, out_features=256, bias=True)\n",
       "  (fc2): Linear(in_features=256, out_features=4096, bias=True)\n",
       ")"
      ]
     },
     "execution_count": 20,
     "metadata": {},
     "output_type": "execute_result"
    }
   ],
   "source": [
    "\n",
    "device = torch.device(\"cuda\" if torch.cuda.is_available() else \"cpu\")\n",
    "model.to(device)\n",
    "# model.load_state_dict(torch.load(\"save_model/graf_model.pth\", map_location=torch.device(device)))  "
   ]
  },
  {
   "cell_type": "code",
   "execution_count": null,
   "id": "b112f64d",
   "metadata": {},
   "outputs": [
    {
     "name": "stdout",
     "output_type": "stream",
     "text": [
      "Epoch 1/50\n"
     ]
    },
    {
     "name": "stderr",
     "output_type": "stream",
     "text": [
      "                                                                                       \r"
     ]
    },
    {
     "name": "stdout",
     "output_type": "stream",
     "text": [
      "Train loss: 12.1599, acc: 0.0141\n",
      "Val   loss: 6.7370, acc: 0.0188\n",
      "Saved best model with val acc: 0.0188\n",
      "------------------------------\n",
      "Epoch 2/50\n"
     ]
    },
    {
     "name": "stderr",
     "output_type": "stream",
     "text": [
      "                                                                                       \r"
     ]
    },
    {
     "name": "stdout",
     "output_type": "stream",
     "text": [
      "Train loss: 6.6982, acc: 0.0182\n",
      "Val   loss: 6.6704, acc: 0.0188\n",
      "------------------------------\n",
      "Epoch 3/50\n"
     ]
    },
    {
     "name": "stderr",
     "output_type": "stream",
     "text": [
      "                                                                                       \r"
     ]
    },
    {
     "name": "stdout",
     "output_type": "stream",
     "text": [
      "Train loss: 6.6738, acc: 0.0183\n",
      "Val   loss: 6.6669, acc: 0.0188\n",
      "------------------------------\n",
      "Epoch 4/50\n"
     ]
    },
    {
     "name": "stderr",
     "output_type": "stream",
     "text": [
      "Training:  20%|██        | 26/127 [00:07<00:30,  3.31it/s, accuracy=0.0176, loss=6.66]"
     ]
    }
   ],
   "source": [
    "from utils.train import train_model_gnn\n",
    "train_model_gnn(model, train_loader, val_loader, device=device, epochs=50, lr=1e-1, save_path=\"save_model/graf_model.pth\", model_name=\"GRAF\")"
   ]
  },
  {
   "cell_type": "markdown",
   "id": "8c5ec7af",
   "metadata": {},
   "source": [
    "# Обучение медленное!!!!"
   ]
  },
  {
   "cell_type": "code",
   "execution_count": null,
   "id": "f7d513a6",
   "metadata": {},
   "outputs": [],
   "source": []
  },
  {
   "cell_type": "code",
   "execution_count": null,
   "id": "a55b3950",
   "metadata": {},
   "outputs": [],
   "source": []
  },
  {
   "cell_type": "code",
   "execution_count": null,
   "id": "735b3fdc",
   "metadata": {},
   "outputs": [],
   "source": []
  },
  {
   "cell_type": "code",
   "execution_count": null,
   "id": "fdb83503",
   "metadata": {},
   "outputs": [],
   "source": []
  },
  {
   "cell_type": "code",
   "execution_count": null,
   "id": "ae53bc6b",
   "metadata": {},
   "outputs": [],
   "source": []
  },
  {
   "cell_type": "code",
   "execution_count": null,
   "id": "0abf05ba",
   "metadata": {},
   "outputs": [],
   "source": []
  },
  {
   "cell_type": "code",
   "execution_count": null,
   "id": "6341a222",
   "metadata": {},
   "outputs": [],
   "source": []
  },
  {
   "cell_type": "code",
   "execution_count": null,
   "id": "cc5cab90",
   "metadata": {},
   "outputs": [],
   "source": []
  },
  {
   "cell_type": "code",
   "execution_count": null,
   "id": "ccc69a9d",
   "metadata": {},
   "outputs": [],
   "source": []
  }
 ],
 "metadata": {
  "kernelspec": {
   "display_name": "env1",
   "language": "python",
   "name": "python3"
  },
  "language_info": {
   "codemirror_mode": {
    "name": "ipython",
    "version": 3
   },
   "file_extension": ".py",
   "mimetype": "text/x-python",
   "name": "python",
   "nbconvert_exporter": "python",
   "pygments_lexer": "ipython3",
   "version": "3.12.3"
  }
 },
 "nbformat": 4,
 "nbformat_minor": 5
}
