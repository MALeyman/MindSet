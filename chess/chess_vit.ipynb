{
 "cells": [
  {
   "cell_type": "markdown",
   "id": "5ac930c2",
   "metadata": {},
   "source": [
    "# Предсказание  следующего хода"
   ]
  },
  {
   "cell_type": "markdown",
   "id": "a6f3af0b",
   "metadata": {},
   "source": [
    "K/k — король  \n",
    "\n",
    "Q/q — ферзь  \n",
    "\n",
    "R/r — ладья  \n",
    "\n",
    "B/b — слон  \n",
    "\n",
    "N/n — конь  \n",
    "\n",
    "P/p — пешка  "
   ]
  },
  {
   "cell_type": "markdown",
   "id": "52726270",
   "metadata": {},
   "source": [
    "#### Расшифровка записи\n",
    "\n",
    "7k/5p1p/p2p1Pr1/1p4pQ/8/P1P5/2pr3P/2R2K2 w - - 0 1  \n",
    "\n",
    "w : ход белых  \n",
    "\n",
    "— : рокировка невозможна  \n",
    "\n",
    "— : нет возможности взятия на проходе  \n",
    "\n",
    "0 : 0 полуходов прошло с последнего хода пешки или взятия  \n",
    "\n",
    "1 : первый полный ход партии (начало)  "
   ]
  },
  {
   "cell_type": "code",
   "execution_count": 3,
   "id": "c89f2585",
   "metadata": {},
   "outputs": [],
   "source": [
    "path_dataset_1 = 'data/fens_training_set.csv'\n",
    "\n",
    "path_dataset_2 = 'data/fens_processed_no_turn.csv'"
   ]
  },
  {
   "cell_type": "markdown",
   "id": "ebb17a6b",
   "metadata": {},
   "source": [
    "## 2. Датасет"
   ]
  },
  {
   "cell_type": "code",
   "execution_count": 4,
   "id": "e66d5d8a",
   "metadata": {},
   "outputs": [
    {
     "name": "stdout",
     "output_type": "stream",
     "text": [
      "torch.Size([13, 8, 8])\n",
      "torch.Size([4])\n",
      "tensor(2517)\n",
      "torch.Size([1, 13, 8, 8])\n",
      "torch.Size([1, 4])\n",
      "torch.Size([1])\n"
     ]
    }
   ],
   "source": [
    "from utils.dataset import ChessOneHotDataset, ChessDataset\n",
    "import torch\n",
    "\n",
    "\n",
    "dataset = ChessDataset(path_dataset_2)\n",
    "for board, castling, label in dataset:\n",
    "    print(board.shape)  # torch.Size([13, 8, 8])\n",
    "    print(castling.shape)     # torch.Size([4])\n",
    "    print(label)        # метка движения (int)\n",
    "    break\n",
    "\n",
    "\n",
    "dataloader = torch.utils.data.DataLoader(dataset, batch_size=1, shuffle=True)\n",
    "\n",
    "for board, castling, label in dataloader:\n",
    "    print(board.shape)  # torch.Size([13, 8, 8])\n",
    "    print(castling.shape)     # torch.Size([4])\n",
    "    print(label.shape) \n",
    "    break\n"
   ]
  },
  {
   "cell_type": "markdown",
   "id": "2b33ce34",
   "metadata": {},
   "source": [
    "## 3. Модель"
   ]
  },
  {
   "cell_type": "code",
   "execution_count": 5,
   "id": "182a0d63",
   "metadata": {},
   "outputs": [
    {
     "name": "stdout",
     "output_type": "stream",
     "text": [
      "torch.Size([1, 4096])\n"
     ]
    }
   ],
   "source": [
    "from utils.models import  ChessVisionTransformer\n",
    "\n",
    "model = ChessVisionTransformer()\n",
    "\n",
    "logits = model(board, castling)\n",
    "\n",
    "print(logits.shape)  # [batch_size, 4096]\n"
   ]
  },
  {
   "cell_type": "code",
   "execution_count": 6,
   "id": "bac1323c",
   "metadata": {},
   "outputs": [
    {
     "data": {
      "text/plain": [
       "tensor([[-0.3240,  0.0491, -0.2972,  ...,  0.9264,  0.3882, -0.1899]],\n",
       "       grad_fn=<AddmmBackward0>)"
      ]
     },
     "execution_count": 6,
     "metadata": {},
     "output_type": "execute_result"
    }
   ],
   "source": [
    "logits"
   ]
  },
  {
   "cell_type": "markdown",
   "id": "659ebf11",
   "metadata": {},
   "source": [
    "## Тренировка"
   ]
  },
  {
   "cell_type": "code",
   "execution_count": null,
   "id": "38535dd3",
   "metadata": {},
   "outputs": [],
   "source": [
    "\n",
    "from utils.train import train_kfold, train_model\n",
    "from torch.utils.data import Dataset, DataLoader\n",
    "from utils.dataset import create_data_loaders_from_csv\n",
    "\n",
    "dataset = ChessDataset(path_dataset_2)\n",
    "\n",
    "train_loader, val_loader = create_data_loaders_from_csv(dataset, batch_size=1024, val_split=0.3)\n"
   ]
  },
  {
   "cell_type": "code",
   "execution_count": 6,
   "id": "e95b9d5d",
   "metadata": {},
   "outputs": [
    {
     "data": {
      "text/plain": [
       "ChessVisionTransformer(\n",
       "  (patch_embed): PatchEmbedding(\n",
       "    (proj): Conv2d(13, 256, kernel_size=(1, 1), stride=(1, 1))\n",
       "  )\n",
       "  (dropout): Dropout(p=0.1, inplace=False)\n",
       "  (transformer_blocks): ModuleList(\n",
       "    (0-5): 6 x TransformerEncoderBlock(\n",
       "      (norm1): LayerNorm((256,), eps=1e-05, elementwise_affine=True)\n",
       "      (attn): MultiheadAttention(\n",
       "        (out_proj): NonDynamicallyQuantizableLinear(in_features=256, out_features=256, bias=True)\n",
       "      )\n",
       "      (norm2): LayerNorm((256,), eps=1e-05, elementwise_affine=True)\n",
       "      (mlp): Sequential(\n",
       "        (0): Linear(in_features=256, out_features=512, bias=True)\n",
       "        (1): GELU(approximate='none')\n",
       "        (2): Dropout(p=0.1, inplace=False)\n",
       "        (3): Linear(in_features=512, out_features=256, bias=True)\n",
       "        (4): Dropout(p=0.1, inplace=False)\n",
       "      )\n",
       "    )\n",
       "  )\n",
       "  (castling_fc): Linear(in_features=4, out_features=256, bias=True)\n",
       "  (norm): LayerNorm((256,), eps=1e-05, elementwise_affine=True)\n",
       "  (head): Linear(in_features=256, out_features=4096, bias=True)\n",
       ")"
      ]
     },
     "execution_count": 6,
     "metadata": {},
     "output_type": "execute_result"
    }
   ],
   "source": [
    "\n",
    "\n",
    "\n",
    "from utils.models import  ChessVisionTransformer\n",
    "\n",
    "model = ChessVisionTransformer()\n",
    "\n",
    "\n",
    "device = torch.device(\"cuda\" if torch.cuda.is_available() else \"cpu\")\n",
    "model.to(device)\n"
   ]
  },
  {
   "cell_type": "code",
   "execution_count": 7,
   "id": "d1f5f07a",
   "metadata": {},
   "outputs": [],
   "source": [
    "\n",
    "# model.load_state_dict(torch.load(\"save_model/vit_model.pth\", map_location=torch.device(device)))  "
   ]
  },
  {
   "cell_type": "code",
   "execution_count": 9,
   "id": "b112f64d",
   "metadata": {},
   "outputs": [
    {
     "name": "stdout",
     "output_type": "stream",
     "text": [
      "Epoch 1/50\n"
     ]
    },
    {
     "name": "stderr",
     "output_type": "stream",
     "text": [
      "                                                                                       \r"
     ]
    },
    {
     "name": "stdout",
     "output_type": "stream",
     "text": [
      "Train loss: 6.4223, acc: 0.0244\n",
      "Val   loss: 6.1456, acc: 0.0368\n",
      "Saved best model with val acc: 0.0368\n",
      "------------------------------\n",
      "Epoch 2/50\n"
     ]
    },
    {
     "name": "stderr",
     "output_type": "stream",
     "text": [
      "                                                                                       \r"
     ]
    },
    {
     "name": "stdout",
     "output_type": "stream",
     "text": [
      "Train loss: 6.0711, acc: 0.0386\n",
      "Val   loss: 5.9100, acc: 0.0517\n",
      "Saved best model with val acc: 0.0517\n",
      "------------------------------\n",
      "Epoch 3/50\n"
     ]
    },
    {
     "name": "stderr",
     "output_type": "stream",
     "text": [
      "                                                                                       \r"
     ]
    },
    {
     "name": "stdout",
     "output_type": "stream",
     "text": [
      "Train loss: 5.7371, acc: 0.0594\n",
      "Val   loss: 5.3871, acc: 0.0755\n",
      "Saved best model with val acc: 0.0755\n",
      "------------------------------\n",
      "Epoch 4/50\n"
     ]
    },
    {
     "name": "stderr",
     "output_type": "stream",
     "text": [
      "                                                                                       \r"
     ]
    },
    {
     "name": "stdout",
     "output_type": "stream",
     "text": [
      "Train loss: 5.1916, acc: 0.0796\n",
      "Val   loss: 4.8004, acc: 0.1004\n",
      "Saved best model with val acc: 0.1004\n",
      "------------------------------\n",
      "Epoch 5/50\n"
     ]
    },
    {
     "name": "stderr",
     "output_type": "stream",
     "text": [
      "                                                                                       \r"
     ]
    },
    {
     "name": "stdout",
     "output_type": "stream",
     "text": [
      "Train loss: 4.6363, acc: 0.1022\n",
      "Val   loss: 4.2628, acc: 0.1230\n",
      "Saved best model with val acc: 0.1230\n",
      "------------------------------\n",
      "Epoch 6/50\n"
     ]
    },
    {
     "name": "stderr",
     "output_type": "stream",
     "text": [
      "                                                                                      \r"
     ]
    },
    {
     "name": "stdout",
     "output_type": "stream",
     "text": [
      "Train loss: 4.1985, acc: 0.1257\n",
      "Val   loss: 3.9097, acc: 0.1497\n",
      "Saved best model with val acc: 0.1497\n",
      "------------------------------\n",
      "Epoch 7/50\n"
     ]
    },
    {
     "name": "stderr",
     "output_type": "stream",
     "text": [
      "                                                                                      \r"
     ]
    },
    {
     "name": "stdout",
     "output_type": "stream",
     "text": [
      "Train loss: 3.8840, acc: 0.1508\n",
      "Val   loss: 3.6306, acc: 0.1752\n",
      "Saved best model with val acc: 0.1752\n",
      "------------------------------\n",
      "Epoch 8/50\n"
     ]
    },
    {
     "name": "stderr",
     "output_type": "stream",
     "text": [
      "                                                                                      \r"
     ]
    },
    {
     "name": "stdout",
     "output_type": "stream",
     "text": [
      "Train loss: 3.6541, acc: 0.1682\n",
      "Val   loss: 3.4290, acc: 0.1953\n",
      "Saved best model with val acc: 0.1953\n",
      "------------------------------\n",
      "Epoch 9/50\n"
     ]
    },
    {
     "name": "stderr",
     "output_type": "stream",
     "text": [
      "                                                                                      \r"
     ]
    },
    {
     "name": "stdout",
     "output_type": "stream",
     "text": [
      "Train loss: 3.4696, acc: 0.1860\n",
      "Val   loss: 3.2763, acc: 0.2121\n",
      "Saved best model with val acc: 0.2121\n",
      "------------------------------\n",
      "Epoch 10/50\n"
     ]
    },
    {
     "name": "stderr",
     "output_type": "stream",
     "text": [
      "                                                                                      \r"
     ]
    },
    {
     "name": "stdout",
     "output_type": "stream",
     "text": [
      "Train loss: 3.3272, acc: 0.2010\n",
      "Val   loss: 3.1546, acc: 0.2267\n",
      "Saved best model with val acc: 0.2267\n",
      "------------------------------\n",
      "Epoch 11/50\n"
     ]
    },
    {
     "name": "stderr",
     "output_type": "stream",
     "text": [
      "                                                                                      \r"
     ]
    },
    {
     "name": "stdout",
     "output_type": "stream",
     "text": [
      "Train loss: 3.2022, acc: 0.2157\n",
      "Val   loss: 3.0382, acc: 0.2433\n",
      "Saved best model with val acc: 0.2433\n",
      "------------------------------\n",
      "Epoch 12/50\n"
     ]
    },
    {
     "name": "stderr",
     "output_type": "stream",
     "text": [
      "                                                                                      \r"
     ]
    },
    {
     "name": "stdout",
     "output_type": "stream",
     "text": [
      "Train loss: 3.0956, acc: 0.2296\n",
      "Val   loss: 2.9417, acc: 0.2594\n",
      "Saved best model with val acc: 0.2594\n",
      "------------------------------\n",
      "Epoch 13/50\n"
     ]
    },
    {
     "name": "stderr",
     "output_type": "stream",
     "text": [
      "                                                                                      \r"
     ]
    },
    {
     "name": "stdout",
     "output_type": "stream",
     "text": [
      "Train loss: 3.0005, acc: 0.2433\n",
      "Val   loss: 2.8648, acc: 0.2714\n",
      "Saved best model with val acc: 0.2714\n",
      "------------------------------\n",
      "Epoch 14/50\n"
     ]
    },
    {
     "name": "stderr",
     "output_type": "stream",
     "text": [
      "                                                                                      \r"
     ]
    },
    {
     "name": "stdout",
     "output_type": "stream",
     "text": [
      "Train loss: 2.9114, acc: 0.2566\n",
      "Val   loss: 2.7880, acc: 0.2853\n",
      "Saved best model with val acc: 0.2853\n",
      "------------------------------\n",
      "Epoch 15/50\n"
     ]
    },
    {
     "name": "stderr",
     "output_type": "stream",
     "text": [
      "                                                                                      \r"
     ]
    },
    {
     "name": "stdout",
     "output_type": "stream",
     "text": [
      "Train loss: 2.8261, acc: 0.2710\n",
      "Val   loss: 2.7115, acc: 0.3004\n",
      "Saved best model with val acc: 0.3004\n",
      "------------------------------\n",
      "Epoch 16/50\n"
     ]
    },
    {
     "name": "stderr",
     "output_type": "stream",
     "text": [
      "                                                                                      \r"
     ]
    },
    {
     "name": "stdout",
     "output_type": "stream",
     "text": [
      "Train loss: 2.7514, acc: 0.2830\n",
      "Val   loss: 2.6530, acc: 0.3151\n",
      "Saved best model with val acc: 0.3151\n",
      "------------------------------\n",
      "Epoch 17/50\n"
     ]
    },
    {
     "name": "stderr",
     "output_type": "stream",
     "text": [
      "                                                                                      \r"
     ]
    },
    {
     "name": "stdout",
     "output_type": "stream",
     "text": [
      "Train loss: 2.6799, acc: 0.2957\n",
      "Val   loss: 2.5837, acc: 0.3301\n",
      "Saved best model with val acc: 0.3301\n",
      "------------------------------\n",
      "Epoch 18/50\n"
     ]
    },
    {
     "name": "stderr",
     "output_type": "stream",
     "text": [
      "                                                                                      \r"
     ]
    },
    {
     "name": "stdout",
     "output_type": "stream",
     "text": [
      "Train loss: 2.6073, acc: 0.3077\n",
      "Val   loss: 2.5325, acc: 0.3414\n",
      "Saved best model with val acc: 0.3414\n",
      "------------------------------\n",
      "Epoch 19/50\n"
     ]
    },
    {
     "name": "stderr",
     "output_type": "stream",
     "text": [
      "                                                                                      \r"
     ]
    },
    {
     "name": "stdout",
     "output_type": "stream",
     "text": [
      "Train loss: 2.5410, acc: 0.3218\n",
      "Val   loss: 2.4753, acc: 0.3601\n",
      "Saved best model with val acc: 0.3601\n",
      "------------------------------\n",
      "Epoch 20/50\n"
     ]
    },
    {
     "name": "stderr",
     "output_type": "stream",
     "text": [
      "                                                                                      \r"
     ]
    },
    {
     "name": "stdout",
     "output_type": "stream",
     "text": [
      "Train loss: 2.4751, acc: 0.3338\n",
      "Val   loss: 2.4229, acc: 0.3725\n",
      "Saved best model with val acc: 0.3725\n",
      "------------------------------\n",
      "Epoch 21/50\n"
     ]
    },
    {
     "name": "stderr",
     "output_type": "stream",
     "text": [
      "                                                                                      \r"
     ]
    },
    {
     "name": "stdout",
     "output_type": "stream",
     "text": [
      "Train loss: 2.4095, acc: 0.3479\n",
      "Val   loss: 2.3874, acc: 0.3764\n",
      "Saved best model with val acc: 0.3764\n",
      "------------------------------\n",
      "Epoch 22/50\n"
     ]
    },
    {
     "name": "stderr",
     "output_type": "stream",
     "text": [
      "                                                                                      \r"
     ]
    },
    {
     "name": "stdout",
     "output_type": "stream",
     "text": [
      "Train loss: 2.3511, acc: 0.3591\n",
      "Val   loss: 2.3267, acc: 0.3942\n",
      "Saved best model with val acc: 0.3942\n",
      "------------------------------\n",
      "Epoch 23/50\n"
     ]
    },
    {
     "name": "stderr",
     "output_type": "stream",
     "text": [
      "                                                                                      \r"
     ]
    },
    {
     "name": "stdout",
     "output_type": "stream",
     "text": [
      "Train loss: 2.2894, acc: 0.3712\n",
      "Val   loss: 2.2641, acc: 0.4120\n",
      "Saved best model with val acc: 0.4120\n",
      "------------------------------\n",
      "Epoch 24/50\n"
     ]
    },
    {
     "name": "stderr",
     "output_type": "stream",
     "text": [
      "                                                                                      \r"
     ]
    },
    {
     "name": "stdout",
     "output_type": "stream",
     "text": [
      "Train loss: 2.2310, acc: 0.3843\n",
      "Val   loss: 2.2423, acc: 0.4194\n",
      "Saved best model with val acc: 0.4194\n",
      "------------------------------\n",
      "Epoch 25/50\n"
     ]
    },
    {
     "name": "stderr",
     "output_type": "stream",
     "text": [
      "                                                                                      \r"
     ]
    },
    {
     "name": "stdout",
     "output_type": "stream",
     "text": [
      "Train loss: 2.1780, acc: 0.3950\n",
      "Val   loss: 2.1924, acc: 0.4311\n",
      "Saved best model with val acc: 0.4311\n",
      "------------------------------\n",
      "Epoch 26/50\n"
     ]
    },
    {
     "name": "stderr",
     "output_type": "stream",
     "text": [
      "                                                                                      \r"
     ]
    },
    {
     "name": "stdout",
     "output_type": "stream",
     "text": [
      "Train loss: 2.1229, acc: 0.4077\n",
      "Val   loss: 2.1526, acc: 0.4447\n",
      "Saved best model with val acc: 0.4447\n",
      "------------------------------\n",
      "Epoch 27/50\n"
     ]
    },
    {
     "name": "stderr",
     "output_type": "stream",
     "text": [
      "                                                                                      \r"
     ]
    },
    {
     "name": "stdout",
     "output_type": "stream",
     "text": [
      "Train loss: 2.0686, acc: 0.4183\n",
      "Val   loss: 2.1181, acc: 0.4551\n",
      "Saved best model with val acc: 0.4551\n",
      "------------------------------\n",
      "Epoch 28/50\n"
     ]
    },
    {
     "name": "stderr",
     "output_type": "stream",
     "text": [
      "                                                                                      \r"
     ]
    },
    {
     "name": "stdout",
     "output_type": "stream",
     "text": [
      "Train loss: 2.0204, acc: 0.4304\n",
      "Val   loss: 2.0721, acc: 0.4686\n",
      "Saved best model with val acc: 0.4686\n",
      "------------------------------\n",
      "Epoch 29/50\n"
     ]
    },
    {
     "name": "stderr",
     "output_type": "stream",
     "text": [
      "                                                                                      \r"
     ]
    },
    {
     "name": "stdout",
     "output_type": "stream",
     "text": [
      "Train loss: 1.9674, acc: 0.4430\n",
      "Val   loss: 2.0490, acc: 0.4749\n",
      "Saved best model with val acc: 0.4749\n",
      "------------------------------\n",
      "Epoch 30/50\n"
     ]
    },
    {
     "name": "stderr",
     "output_type": "stream",
     "text": [
      "                                                                                      \r"
     ]
    },
    {
     "name": "stdout",
     "output_type": "stream",
     "text": [
      "Train loss: 1.9170, acc: 0.4545\n",
      "Val   loss: 2.0012, acc: 0.4930\n",
      "Saved best model with val acc: 0.4930\n",
      "------------------------------\n",
      "Epoch 31/50\n"
     ]
    },
    {
     "name": "stderr",
     "output_type": "stream",
     "text": [
      "                                                                                      \r"
     ]
    },
    {
     "name": "stdout",
     "output_type": "stream",
     "text": [
      "Train loss: 1.8708, acc: 0.4648\n",
      "Val   loss: 1.9842, acc: 0.4982\n",
      "Saved best model with val acc: 0.4982\n",
      "------------------------------\n",
      "Epoch 32/50\n"
     ]
    },
    {
     "name": "stderr",
     "output_type": "stream",
     "text": [
      "                                                                                      \r"
     ]
    },
    {
     "name": "stdout",
     "output_type": "stream",
     "text": [
      "Train loss: 1.8254, acc: 0.4761\n",
      "Val   loss: 1.9633, acc: 0.5085\n",
      "Saved best model with val acc: 0.5085\n",
      "------------------------------\n",
      "Epoch 33/50\n"
     ]
    },
    {
     "name": "stderr",
     "output_type": "stream",
     "text": [
      "                                                                                      \r"
     ]
    },
    {
     "name": "stdout",
     "output_type": "stream",
     "text": [
      "Train loss: 1.7833, acc: 0.4849\n",
      "Val   loss: 1.9268, acc: 0.5187\n",
      "Saved best model with val acc: 0.5187\n",
      "------------------------------\n",
      "Epoch 34/50\n"
     ]
    },
    {
     "name": "stderr",
     "output_type": "stream",
     "text": [
      "                                                                                      \r"
     ]
    },
    {
     "name": "stdout",
     "output_type": "stream",
     "text": [
      "Train loss: 1.7440, acc: 0.4965\n",
      "Val   loss: 1.9054, acc: 0.5328\n",
      "Saved best model with val acc: 0.5328\n",
      "------------------------------\n",
      "Epoch 35/50\n"
     ]
    },
    {
     "name": "stderr",
     "output_type": "stream",
     "text": [
      "                                                                                      \r"
     ]
    },
    {
     "name": "stdout",
     "output_type": "stream",
     "text": [
      "Train loss: 1.7016, acc: 0.5063\n",
      "Val   loss: 1.8889, acc: 0.5352\n",
      "Saved best model with val acc: 0.5352\n",
      "------------------------------\n",
      "Epoch 36/50\n"
     ]
    },
    {
     "name": "stderr",
     "output_type": "stream",
     "text": [
      "                                                                                      \r"
     ]
    },
    {
     "name": "stdout",
     "output_type": "stream",
     "text": [
      "Train loss: 1.6593, acc: 0.5160\n",
      "Val   loss: 1.8641, acc: 0.5475\n",
      "Saved best model with val acc: 0.5475\n",
      "------------------------------\n",
      "Epoch 37/50\n"
     ]
    },
    {
     "name": "stderr",
     "output_type": "stream",
     "text": [
      "                                                                                      \r"
     ]
    },
    {
     "name": "stdout",
     "output_type": "stream",
     "text": [
      "Train loss: 1.6277, acc: 0.5242\n",
      "Val   loss: 1.8278, acc: 0.5573\n",
      "Saved best model with val acc: 0.5573\n",
      "------------------------------\n",
      "Epoch 38/50\n"
     ]
    },
    {
     "name": "stderr",
     "output_type": "stream",
     "text": [
      "                                                                                      \r"
     ]
    },
    {
     "name": "stdout",
     "output_type": "stream",
     "text": [
      "Train loss: 1.5951, acc: 0.5318\n",
      "Val   loss: 1.8221, acc: 0.5653\n",
      "Saved best model with val acc: 0.5653\n",
      "------------------------------\n",
      "Epoch 39/50\n"
     ]
    },
    {
     "name": "stderr",
     "output_type": "stream",
     "text": [
      "                                                                                      \r"
     ]
    },
    {
     "name": "stdout",
     "output_type": "stream",
     "text": [
      "Train loss: 1.5573, acc: 0.5419\n",
      "Val   loss: 1.7902, acc: 0.5750\n",
      "Saved best model with val acc: 0.5750\n",
      "------------------------------\n",
      "Epoch 40/50\n"
     ]
    },
    {
     "name": "stderr",
     "output_type": "stream",
     "text": [
      "                                                                                      \r"
     ]
    },
    {
     "name": "stdout",
     "output_type": "stream",
     "text": [
      "Train loss: 1.5214, acc: 0.5512\n",
      "Val   loss: 1.7884, acc: 0.5774\n",
      "Saved best model with val acc: 0.5774\n",
      "------------------------------\n",
      "Epoch 41/50\n"
     ]
    },
    {
     "name": "stderr",
     "output_type": "stream",
     "text": [
      "                                                                                      \r"
     ]
    },
    {
     "name": "stdout",
     "output_type": "stream",
     "text": [
      "Train loss: 1.4873, acc: 0.5601\n",
      "Val   loss: 1.7730, acc: 0.5861\n",
      "Saved best model with val acc: 0.5861\n",
      "------------------------------\n",
      "Epoch 42/50\n"
     ]
    },
    {
     "name": "stderr",
     "output_type": "stream",
     "text": [
      "                                                                                      \r"
     ]
    },
    {
     "name": "stdout",
     "output_type": "stream",
     "text": [
      "Train loss: 1.4574, acc: 0.5673\n",
      "Val   loss: 1.7509, acc: 0.5927\n",
      "Saved best model with val acc: 0.5927\n",
      "------------------------------\n",
      "Epoch 43/50\n"
     ]
    },
    {
     "name": "stderr",
     "output_type": "stream",
     "text": [
      "                                                                                      \r"
     ]
    },
    {
     "name": "stdout",
     "output_type": "stream",
     "text": [
      "Train loss: 1.4298, acc: 0.5735\n",
      "Val   loss: 1.7509, acc: 0.5962\n",
      "Saved best model with val acc: 0.5962\n",
      "------------------------------\n",
      "Epoch 44/50\n"
     ]
    },
    {
     "name": "stderr",
     "output_type": "stream",
     "text": [
      "                                                                                      \r"
     ]
    },
    {
     "name": "stdout",
     "output_type": "stream",
     "text": [
      "Train loss: 1.4029, acc: 0.5820\n",
      "Val   loss: 1.7346, acc: 0.6040\n",
      "Saved best model with val acc: 0.6040\n",
      "------------------------------\n",
      "Epoch 45/50\n"
     ]
    },
    {
     "name": "stderr",
     "output_type": "stream",
     "text": [
      "                                                                                      \r"
     ]
    },
    {
     "name": "stdout",
     "output_type": "stream",
     "text": [
      "Train loss: 1.3774, acc: 0.5892\n",
      "Val   loss: 1.7180, acc: 0.6131\n",
      "Saved best model with val acc: 0.6131\n",
      "------------------------------\n",
      "Epoch 46/50\n"
     ]
    },
    {
     "name": "stderr",
     "output_type": "stream",
     "text": [
      "                                                                                      \r"
     ]
    },
    {
     "name": "stdout",
     "output_type": "stream",
     "text": [
      "Train loss: 1.3556, acc: 0.5943\n",
      "Val   loss: 1.7154, acc: 0.6102\n",
      "------------------------------\n",
      "Epoch 47/50\n"
     ]
    },
    {
     "name": "stderr",
     "output_type": "stream",
     "text": [
      "                                                                                      \r"
     ]
    },
    {
     "name": "stdout",
     "output_type": "stream",
     "text": [
      "Train loss: 1.3300, acc: 0.6012\n",
      "Val   loss: 1.6888, acc: 0.6225\n",
      "Saved best model with val acc: 0.6225\n",
      "------------------------------\n",
      "Epoch 48/50\n"
     ]
    },
    {
     "name": "stderr",
     "output_type": "stream",
     "text": [
      "                                                                                      \r"
     ]
    },
    {
     "name": "stdout",
     "output_type": "stream",
     "text": [
      "Train loss: 1.3051, acc: 0.6085\n",
      "Val   loss: 1.6822, acc: 0.6267\n",
      "Saved best model with val acc: 0.6267\n",
      "------------------------------\n",
      "Epoch 49/50\n"
     ]
    },
    {
     "name": "stderr",
     "output_type": "stream",
     "text": [
      "                                                                                      \r"
     ]
    },
    {
     "name": "stdout",
     "output_type": "stream",
     "text": [
      "Train loss: 1.2821, acc: 0.6143\n",
      "Val   loss: 1.6754, acc: 0.6306\n",
      "Saved best model with val acc: 0.6306\n",
      "------------------------------\n",
      "Epoch 50/50\n"
     ]
    },
    {
     "name": "stderr",
     "output_type": "stream",
     "text": [
      "                                                                                      \r"
     ]
    },
    {
     "name": "stdout",
     "output_type": "stream",
     "text": [
      "Train loss: 1.2553, acc: 0.6214\n",
      "Val   loss: 1.6748, acc: 0.6330\n",
      "Saved best model with val acc: 0.6330\n",
      "------------------------------\n"
     ]
    },
    {
     "data": {
      "image/png": "[encoded data removed]",
      "text/plain": [
       "<Figure size 1200x500 with 2 Axes>"
      ]
     },
     "metadata": {},
     "output_type": "display_data"
    }
   ],
   "source": [
    "\n",
    "train_model(model, train_loader, val_loader, device=device, epochs=50, lr=1e-3, save_path=\"save_model/vit_model.pth\", model_name=\"VIT\")"
   ]
  },
  {
   "cell_type": "code",
   "execution_count": null,
   "id": "f7d513a6",
   "metadata": {},
   "outputs": [],
   "source": []
  },
  {
   "cell_type": "code",
   "execution_count": null,
   "id": "a55b3950",
   "metadata": {},
   "outputs": [],
   "source": []
  },
  {
   "cell_type": "code",
   "execution_count": null,
   "id": "735b3fdc",
   "metadata": {},
   "outputs": [],
   "source": []
  },
  {
   "cell_type": "code",
   "execution_count": null,
   "id": "fdb83503",
   "metadata": {},
   "outputs": [],
   "source": []
  },
  {
   "cell_type": "code",
   "execution_count": null,
   "id": "ae53bc6b",
   "metadata": {},
   "outputs": [],
   "source": []
  },
  {
   "cell_type": "code",
   "execution_count": null,
   "id": "0abf05ba",
   "metadata": {},
   "outputs": [],
   "source": []
  },
  {
   "cell_type": "code",
   "execution_count": null,
   "id": "6341a222",
   "metadata": {},
   "outputs": [],
   "source": []
  },
  {
   "cell_type": "code",
   "execution_count": null,
   "id": "cc5cab90",
   "metadata": {},
   "outputs": [],
   "source": []
  },
  {
   "cell_type": "code",
   "execution_count": null,
   "id": "ccc69a9d",
   "metadata": {},
   "outputs": [],
   "source": []
  }
 ],
 "metadata": {
  "kernelspec": {
   "display_name": "env1",
   "language": "python",
   "name": "python3"
  },
  "language_info": {
   "codemirror_mode": {
    "name": "ipython",
    "version": 3
   },
   "file_extension": ".py",
   "mimetype": "text/x-python",
   "name": "python",
   "nbconvert_exporter": "python",
   "pygments_lexer": "ipython3",
   "version": "3.12.3"
  }
 },
 "nbformat": 4,
 "nbformat_minor": 5
}
