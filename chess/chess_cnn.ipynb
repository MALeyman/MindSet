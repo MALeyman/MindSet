{
 "cells": [
  {
   "cell_type": "markdown",
   "id": "5ac930c2",
   "metadata": {},
   "source": [
    "# Предсказание  следующего хода"
   ]
  },
  {
   "cell_type": "markdown",
   "id": "a6f3af0b",
   "metadata": {},
   "source": [
    "K/k — король  \n",
    "\n",
    "Q/q — ферзь  \n",
    "\n",
    "R/r — ладья  \n",
    "\n",
    "B/b — слон  \n",
    "\n",
    "N/n — конь  \n",
    "\n",
    "P/p — пешка  "
   ]
  },
  {
   "cell_type": "markdown",
   "id": "52726270",
   "metadata": {},
   "source": [
    "#### Расшифровка записи\n",
    "\n",
    "7k/5p1p/p2p1Pr1/1p4pQ/8/P1P5/2pr3P/2R2K2 w - - 0 1  \n",
    "\n",
    "w : ход белых  \n",
    "\n",
    "— : рокировка невозможна  \n",
    "\n",
    "— : нет возможности взятия на проходе  \n",
    "\n",
    "0 : 0 полуходов прошло с последнего хода пешки или взятия  \n",
    "\n",
    "1 : первый полный ход партии (начало)  "
   ]
  },
  {
   "cell_type": "code",
   "execution_count": 1,
   "id": "c89f2585",
   "metadata": {},
   "outputs": [],
   "source": [
    "path_dataset_1 = 'data/fens_training_set.csv'\n",
    "\n",
    "path_dataset_2 = 'data/fens_processed_no_turn.csv'"
   ]
  },
  {
   "cell_type": "markdown",
   "id": "ebb17a6b",
   "metadata": {},
   "source": [
    "## 2. Датасет"
   ]
  },
  {
   "cell_type": "code",
   "execution_count": 2,
   "id": "e66d5d8a",
   "metadata": {},
   "outputs": [
    {
     "name": "stdout",
     "output_type": "stream",
     "text": [
      "torch.Size([13, 8, 8])\n",
      "torch.Size([4])\n",
      "tensor(2517)\n",
      "torch.Size([1, 13, 8, 8])\n",
      "torch.Size([1, 4])\n",
      "torch.Size([1])\n"
     ]
    }
   ],
   "source": [
    "from utils.dataset import ChessOneHotDataset, ChessDataset\n",
    "import torch\n",
    "\n",
    "\n",
    "dataset = ChessDataset(path_dataset_2)\n",
    "for board, castling, label in dataset:\n",
    "    print(board.shape)  # torch.Size([13, 8, 8])\n",
    "    print(castling.shape)     # torch.Size([4])\n",
    "    print(label)        # метка движения (int)\n",
    "    break\n",
    "\n",
    "\n",
    "dataloader = torch.utils.data.DataLoader(dataset, batch_size=1, shuffle=True)\n",
    "\n",
    "for board, castling, label in dataloader:\n",
    "    print(board.shape)  # torch.Size([13, 8, 8])\n",
    "    print(castling.shape)     # torch.Size([4])\n",
    "    print(label.shape) \n",
    "    break\n"
   ]
  },
  {
   "cell_type": "markdown",
   "id": "2b33ce34",
   "metadata": {},
   "source": [
    "## 3. Модель"
   ]
  },
  {
   "cell_type": "code",
   "execution_count": null,
   "id": "182a0d63",
   "metadata": {},
   "outputs": [
    {
     "name": "stdout",
     "output_type": "stream",
     "text": [
      "torch.Size([1, 4096])\n"
     ]
    }
   ],
   "source": [
    "\n",
    "from utils.models import ChessNetMultiInput, ChessNetImproved\n",
    "\n",
    "model = ChessNetImproved()\n",
    "\n",
    "logits = model(board, castling)\n",
    "\n",
    "print(logits.shape)  # [batch_size, 4096]\n"
   ]
  },
  {
   "cell_type": "code",
   "execution_count": 4,
   "id": "bac1323c",
   "metadata": {},
   "outputs": [
    {
     "data": {
      "text/plain": [
       "tensor([[ 0.1722, -0.0732,  0.0141,  ..., -0.1796, -0.0713, -0.0875]],\n",
       "       grad_fn=<AddmmBackward0>)"
      ]
     },
     "execution_count": 4,
     "metadata": {},
     "output_type": "execute_result"
    }
   ],
   "source": [
    "logits"
   ]
  },
  {
   "cell_type": "markdown",
   "id": "8f62fee0",
   "metadata": {},
   "source": [
    "## Тренировка"
   ]
  },
  {
   "cell_type": "code",
   "execution_count": null,
   "id": "38535dd3",
   "metadata": {},
   "outputs": [],
   "source": [
    "from utils.train import train_kfold, train_model\n",
    "from torch.utils.data import Dataset, DataLoader\n",
    "from utils.dataset import create_data_loaders_from_csv\n",
    "\n",
    "dataset = ChessDataset(path_dataset_2)\n",
    "\n",
    "train_loader, val_loader = create_data_loaders_from_csv(dataset, batch_size=2048, val_split=0.3)"
   ]
  },
  {
   "cell_type": "code",
   "execution_count": null,
   "id": "f55e016e",
   "metadata": {},
   "outputs": [
    {
     "data": {
      "text/plain": [
       "ChessNetImproved(\n",
       "  (conv1): Conv2d(13, 64, kernel_size=(3, 3), stride=(1, 1), padding=(1, 1))\n",
       "  (bn1): BatchNorm2d(64, eps=1e-05, momentum=0.1, affine=True, track_running_stats=True)\n",
       "  (resblock1): ResidualBlock(\n",
       "    (conv1): Conv2d(64, 64, kernel_size=(3, 3), stride=(1, 1), padding=(1, 1))\n",
       "    (bn1): BatchNorm2d(64, eps=1e-05, momentum=0.1, affine=True, track_running_stats=True)\n",
       "    (conv2): Conv2d(64, 64, kernel_size=(3, 3), stride=(1, 1), padding=(1, 1))\n",
       "    (bn2): BatchNorm2d(64, eps=1e-05, momentum=0.1, affine=True, track_running_stats=True)\n",
       "  )\n",
       "  (conv2): Conv2d(64, 128, kernel_size=(3, 3), stride=(1, 1), padding=(1, 1))\n",
       "  (bn2): BatchNorm2d(128, eps=1e-05, momentum=0.1, affine=True, track_running_stats=True)\n",
       "  (resblock2): ResidualBlock(\n",
       "    (conv1): Conv2d(128, 128, kernel_size=(3, 3), stride=(1, 1), padding=(1, 1))\n",
       "    (bn1): BatchNorm2d(128, eps=1e-05, momentum=0.1, affine=True, track_running_stats=True)\n",
       "    (conv2): Conv2d(128, 128, kernel_size=(3, 3), stride=(1, 1), padding=(1, 1))\n",
       "    (bn2): BatchNorm2d(128, eps=1e-05, momentum=0.1, affine=True, track_running_stats=True)\n",
       "  )\n",
       "  (conv3): Conv2d(128, 256, kernel_size=(3, 3), stride=(1, 1), padding=(1, 1))\n",
       "  (bn3): BatchNorm2d(256, eps=1e-05, momentum=0.1, affine=True, track_running_stats=True)\n",
       "  (resblock3): ResidualBlock(\n",
       "    (conv1): Conv2d(256, 256, kernel_size=(3, 3), stride=(1, 1), padding=(1, 1))\n",
       "    (bn1): BatchNorm2d(256, eps=1e-05, momentum=0.1, affine=True, track_running_stats=True)\n",
       "    (conv2): Conv2d(256, 256, kernel_size=(3, 3), stride=(1, 1), padding=(1, 1))\n",
       "    (bn2): BatchNorm2d(256, eps=1e-05, momentum=0.1, affine=True, track_running_stats=True)\n",
       "  )\n",
       "  (fc1): Linear(in_features=16384, out_features=512, bias=True)\n",
       "  (castling_fc): Linear(in_features=4, out_features=32, bias=True)\n",
       "  (fc2): Linear(in_features=544, out_features=1024, bias=True)\n",
       "  (dropout): Dropout(p=0.3, inplace=False)\n",
       "  (fc_out): Linear(in_features=1024, out_features=4096, bias=True)\n",
       ")"
      ]
     },
     "execution_count": 12,
     "metadata": {},
     "output_type": "execute_result"
    }
   ],
   "source": [
    "\n",
    "from utils.models import ChessNetMultiInput, ChessNetImproved\n",
    "\n",
    "model = ChessNetImproved()\n",
    "\n",
    "\n",
    "device = torch.device(\"cuda\" if torch.cuda.is_available() else \"cpu\")\n",
    "model.to(device)\n",
    "\n",
    "\n",
    "# model.load_state_dict(torch.load(\"save_model/best_model4.pth\", map_location=torch.device(device)))  "
   ]
  },
  {
   "cell_type": "code",
   "execution_count": 13,
   "id": "ca56fefd",
   "metadata": {},
   "outputs": [],
   "source": [
    "# train_kfold(ChessNetMultiInput, dataset, device=torch.device('cuda'), k=5, epochs=10, batch_size=3000, save_path=\"save_model/cnn_model.pth\", model_name=\"CNN_Fold\")"
   ]
  },
  {
   "cell_type": "code",
   "execution_count": 14,
   "id": "b112f64d",
   "metadata": {},
   "outputs": [
    {
     "name": "stdout",
     "output_type": "stream",
     "text": [
      "Epoch 1/50\n"
     ]
    },
    {
     "name": "stderr",
     "output_type": "stream",
     "text": [
      "                                                                                       \r"
     ]
    },
    {
     "name": "stdout",
     "output_type": "stream",
     "text": [
      "Train loss: 5.7766, acc: 0.0721\n",
      "Val   loss: 4.6172, acc: 0.1383\n",
      "Saved best model with val acc: 0.1383\n",
      "------------------------------\n",
      "Epoch 2/50\n"
     ]
    },
    {
     "name": "stderr",
     "output_type": "stream",
     "text": [
      "                                                                                      \r"
     ]
    },
    {
     "name": "stdout",
     "output_type": "stream",
     "text": [
      "Train loss: 4.1783, acc: 0.1635\n",
      "Val   loss: 3.6385, acc: 0.2000\n",
      "Saved best model with val acc: 0.2000\n",
      "------------------------------\n",
      "Epoch 3/50\n"
     ]
    },
    {
     "name": "stderr",
     "output_type": "stream",
     "text": [
      "                                                                                      \r"
     ]
    },
    {
     "name": "stdout",
     "output_type": "stream",
     "text": [
      "Train loss: 3.5413, acc: 0.2115\n",
      "Val   loss: 3.2292, acc: 0.2428\n",
      "Saved best model with val acc: 0.2428\n",
      "------------------------------\n",
      "Epoch 4/50\n"
     ]
    },
    {
     "name": "stderr",
     "output_type": "stream",
     "text": [
      "                                                                                      \r"
     ]
    },
    {
     "name": "stdout",
     "output_type": "stream",
     "text": [
      "Train loss: 3.2179, acc: 0.2461\n",
      "Val   loss: 2.9693, acc: 0.2856\n",
      "Saved best model with val acc: 0.2856\n",
      "------------------------------\n",
      "Epoch 5/50\n"
     ]
    },
    {
     "name": "stderr",
     "output_type": "stream",
     "text": [
      "                                                                                      \r"
     ]
    },
    {
     "name": "stdout",
     "output_type": "stream",
     "text": [
      "Train loss: 2.9798, acc: 0.2769\n",
      "Val   loss: 2.8145, acc: 0.3074\n",
      "Saved best model with val acc: 0.3074\n",
      "------------------------------\n",
      "Epoch 6/50\n"
     ]
    },
    {
     "name": "stderr",
     "output_type": "stream",
     "text": [
      "                                                                                      \r"
     ]
    },
    {
     "name": "stdout",
     "output_type": "stream",
     "text": [
      "Train loss: 2.7847, acc: 0.3071\n",
      "Val   loss: 2.6796, acc: 0.3458\n",
      "Saved best model with val acc: 0.3458\n",
      "------------------------------\n",
      "Epoch 7/50\n"
     ]
    },
    {
     "name": "stderr",
     "output_type": "stream",
     "text": [
      "                                                                                      \r"
     ]
    },
    {
     "name": "stdout",
     "output_type": "stream",
     "text": [
      "Train loss: 2.6146, acc: 0.3338\n",
      "Val   loss: 2.5073, acc: 0.3663\n",
      "Saved best model with val acc: 0.3663\n",
      "------------------------------\n",
      "Epoch 8/50\n"
     ]
    },
    {
     "name": "stderr",
     "output_type": "stream",
     "text": [
      "                                                                                      \r"
     ]
    },
    {
     "name": "stdout",
     "output_type": "stream",
     "text": [
      "Train loss: 2.4501, acc: 0.3610\n",
      "Val   loss: 2.4395, acc: 0.3923\n",
      "Saved best model with val acc: 0.3923\n",
      "------------------------------\n",
      "Epoch 9/50\n"
     ]
    },
    {
     "name": "stderr",
     "output_type": "stream",
     "text": [
      "                                                                                      \r"
     ]
    },
    {
     "name": "stdout",
     "output_type": "stream",
     "text": [
      "Train loss: 2.2936, acc: 0.3913\n",
      "Val   loss: 2.2896, acc: 0.4288\n",
      "Saved best model with val acc: 0.4288\n",
      "------------------------------\n",
      "Epoch 10/50\n"
     ]
    },
    {
     "name": "stderr",
     "output_type": "stream",
     "text": [
      "                                                                                      \r"
     ]
    },
    {
     "name": "stdout",
     "output_type": "stream",
     "text": [
      "Train loss: 2.1447, acc: 0.4182\n",
      "Val   loss: 2.1767, acc: 0.4565\n",
      "Saved best model with val acc: 0.4565\n",
      "------------------------------\n",
      "Epoch 11/50\n"
     ]
    },
    {
     "name": "stderr",
     "output_type": "stream",
     "text": [
      "                                                                                      \r"
     ]
    },
    {
     "name": "stdout",
     "output_type": "stream",
     "text": [
      "Train loss: 1.9916, acc: 0.4514\n",
      "Val   loss: 2.1177, acc: 0.4792\n",
      "Saved best model with val acc: 0.4792\n",
      "------------------------------\n",
      "Epoch 12/50\n"
     ]
    },
    {
     "name": "stderr",
     "output_type": "stream",
     "text": [
      "                                                                                      \r"
     ]
    },
    {
     "name": "stdout",
     "output_type": "stream",
     "text": [
      "Train loss: 1.8462, acc: 0.4809\n",
      "Val   loss: 2.0177, acc: 0.5134\n",
      "Saved best model with val acc: 0.5134\n",
      "------------------------------\n",
      "Epoch 13/50\n"
     ]
    },
    {
     "name": "stderr",
     "output_type": "stream",
     "text": [
      "                                                                                      \r"
     ]
    },
    {
     "name": "stdout",
     "output_type": "stream",
     "text": [
      "Train loss: 1.7070, acc: 0.5141\n",
      "Val   loss: 1.9375, acc: 0.5418\n",
      "Saved best model with val acc: 0.5418\n",
      "------------------------------\n",
      "Epoch 14/50\n"
     ]
    },
    {
     "name": "stderr",
     "output_type": "stream",
     "text": [
      "                                                                                      \r"
     ]
    },
    {
     "name": "stdout",
     "output_type": "stream",
     "text": [
      "Train loss: 1.5735, acc: 0.5445\n",
      "Val   loss: 1.9593, acc: 0.5489\n",
      "Saved best model with val acc: 0.5489\n",
      "------------------------------\n",
      "Epoch 15/50\n"
     ]
    },
    {
     "name": "stderr",
     "output_type": "stream",
     "text": [
      "                                                                                      \r"
     ]
    },
    {
     "name": "stdout",
     "output_type": "stream",
     "text": [
      "Train loss: 1.4407, acc: 0.5769\n",
      "Val   loss: 1.8466, acc: 0.5907\n",
      "Saved best model with val acc: 0.5907\n",
      "------------------------------\n",
      "Epoch 16/50\n"
     ]
    },
    {
     "name": "stderr",
     "output_type": "stream",
     "text": [
      "                                                                                      \r"
     ]
    },
    {
     "name": "stdout",
     "output_type": "stream",
     "text": [
      "Train loss: 1.3245, acc: 0.6060\n",
      "Val   loss: 1.8627, acc: 0.5974\n",
      "Saved best model with val acc: 0.5974\n",
      "------------------------------\n",
      "Epoch 17/50\n"
     ]
    },
    {
     "name": "stderr",
     "output_type": "stream",
     "text": [
      "                                                                                      \r"
     ]
    },
    {
     "name": "stdout",
     "output_type": "stream",
     "text": [
      "Train loss: 1.2116, acc: 0.6351\n",
      "Val   loss: 1.7977, acc: 0.6285\n",
      "Saved best model with val acc: 0.6285\n",
      "------------------------------\n",
      "Epoch 18/50\n"
     ]
    },
    {
     "name": "stderr",
     "output_type": "stream",
     "text": [
      "                                                                                      \r"
     ]
    },
    {
     "name": "stdout",
     "output_type": "stream",
     "text": [
      "Train loss: 1.1068, acc: 0.6625\n",
      "Val   loss: 1.7801, acc: 0.6448\n",
      "Saved best model with val acc: 0.6448\n",
      "------------------------------\n",
      "Epoch 19/50\n"
     ]
    },
    {
     "name": "stderr",
     "output_type": "stream",
     "text": [
      "                                                                                       \r"
     ]
    },
    {
     "name": "stdout",
     "output_type": "stream",
     "text": [
      "Train loss: 1.0145, acc: 0.6871\n",
      "Val   loss: 1.7488, acc: 0.6606\n",
      "Saved best model with val acc: 0.6606\n",
      "------------------------------\n",
      "Epoch 20/50\n"
     ]
    },
    {
     "name": "stderr",
     "output_type": "stream",
     "text": [
      "                                                                                       \r"
     ]
    },
    {
     "name": "stdout",
     "output_type": "stream",
     "text": [
      "Train loss: 0.9337, acc: 0.7115\n",
      "Val   loss: 1.7593, acc: 0.6604\n",
      "------------------------------\n",
      "Epoch 21/50\n"
     ]
    },
    {
     "name": "stderr",
     "output_type": "stream",
     "text": [
      "                                                                                       \r"
     ]
    },
    {
     "name": "stdout",
     "output_type": "stream",
     "text": [
      "Train loss: 0.8597, acc: 0.7327\n",
      "Val   loss: 1.7795, acc: 0.6783\n",
      "Saved best model with val acc: 0.6783\n",
      "------------------------------\n",
      "Epoch 22/50\n"
     ]
    },
    {
     "name": "stderr",
     "output_type": "stream",
     "text": [
      "                                                                                       \r"
     ]
    },
    {
     "name": "stdout",
     "output_type": "stream",
     "text": [
      "Train loss: 0.7931, acc: 0.7519\n",
      "Val   loss: 1.7878, acc: 0.6907\n",
      "Saved best model with val acc: 0.6907\n",
      "------------------------------\n",
      "Epoch 23/50\n"
     ]
    },
    {
     "name": "stderr",
     "output_type": "stream",
     "text": [
      "                                                                                       \r"
     ]
    },
    {
     "name": "stdout",
     "output_type": "stream",
     "text": [
      "Train loss: 0.7426, acc: 0.7685\n",
      "Val   loss: 1.7966, acc: 0.6981\n",
      "Saved best model with val acc: 0.6981\n",
      "------------------------------\n",
      "Epoch 24/50\n"
     ]
    },
    {
     "name": "stderr",
     "output_type": "stream",
     "text": [
      "                                                                                       \r"
     ]
    },
    {
     "name": "stdout",
     "output_type": "stream",
     "text": [
      "Train loss: 0.6953, acc: 0.7822\n",
      "Val   loss: 1.8020, acc: 0.7013\n",
      "Saved best model with val acc: 0.7013\n",
      "------------------------------\n",
      "Epoch 25/50\n"
     ]
    },
    {
     "name": "stderr",
     "output_type": "stream",
     "text": [
      "                                                                                       \r"
     ]
    },
    {
     "name": "stdout",
     "output_type": "stream",
     "text": [
      "Train loss: 0.6556, acc: 0.7941\n",
      "Val   loss: 1.8176, acc: 0.7077\n",
      "Saved best model with val acc: 0.7077\n",
      "------------------------------\n",
      "Epoch 26/50\n"
     ]
    },
    {
     "name": "stderr",
     "output_type": "stream",
     "text": [
      "                                                                                       \r"
     ]
    },
    {
     "name": "stdout",
     "output_type": "stream",
     "text": [
      "Train loss: 0.6256, acc: 0.8032\n",
      "Val   loss: 1.9352, acc: 0.7075\n",
      "------------------------------\n",
      "Epoch 27/50\n"
     ]
    },
    {
     "name": "stderr",
     "output_type": "stream",
     "text": [
      "                                                                                       \r"
     ]
    },
    {
     "name": "stdout",
     "output_type": "stream",
     "text": [
      "Train loss: 0.5917, acc: 0.8144\n",
      "Val   loss: 1.8801, acc: 0.7154\n",
      "Saved best model with val acc: 0.7154\n",
      "------------------------------\n",
      "Epoch 28/50\n"
     ]
    },
    {
     "name": "stderr",
     "output_type": "stream",
     "text": [
      "                                                                                       \r"
     ]
    },
    {
     "name": "stdout",
     "output_type": "stream",
     "text": [
      "Train loss: 0.5642, acc: 0.8234\n",
      "Val   loss: 1.8596, acc: 0.7157\n",
      "Saved best model with val acc: 0.7157\n",
      "------------------------------\n",
      "Epoch 29/50\n"
     ]
    },
    {
     "name": "stderr",
     "output_type": "stream",
     "text": [
      "                                                                                       \r"
     ]
    },
    {
     "name": "stdout",
     "output_type": "stream",
     "text": [
      "Train loss: 0.5434, acc: 0.8294\n",
      "Val   loss: 1.8848, acc: 0.7228\n",
      "Saved best model with val acc: 0.7228\n",
      "------------------------------\n",
      "Epoch 30/50\n"
     ]
    },
    {
     "name": "stderr",
     "output_type": "stream",
     "text": [
      "                                                                                       \r"
     ]
    },
    {
     "name": "stdout",
     "output_type": "stream",
     "text": [
      "Train loss: 0.5193, acc: 0.8377\n",
      "Val   loss: 1.8923, acc: 0.7220\n",
      "------------------------------\n",
      "Epoch 31/50\n"
     ]
    },
    {
     "name": "stderr",
     "output_type": "stream",
     "text": [
      "                                                                                       \r"
     ]
    },
    {
     "name": "stdout",
     "output_type": "stream",
     "text": [
      "Train loss: 0.5025, acc: 0.8422\n",
      "Val   loss: 1.9356, acc: 0.7255\n",
      "Saved best model with val acc: 0.7255\n",
      "------------------------------\n",
      "Epoch 32/50\n"
     ]
    },
    {
     "name": "stderr",
     "output_type": "stream",
     "text": [
      "                                                                                       \r"
     ]
    },
    {
     "name": "stdout",
     "output_type": "stream",
     "text": [
      "Train loss: 0.4943, acc: 0.8462\n",
      "Val   loss: 2.0125, acc: 0.7210\n",
      "------------------------------\n",
      "Epoch 33/50\n"
     ]
    },
    {
     "name": "stderr",
     "output_type": "stream",
     "text": [
      "                                                                                       \r"
     ]
    },
    {
     "name": "stdout",
     "output_type": "stream",
     "text": [
      "Train loss: 0.4832, acc: 0.8490\n",
      "Val   loss: 1.9838, acc: 0.7218\n",
      "------------------------------\n",
      "Epoch 34/50\n"
     ]
    },
    {
     "name": "stderr",
     "output_type": "stream",
     "text": [
      "                                                                                       \r"
     ]
    },
    {
     "name": "stdout",
     "output_type": "stream",
     "text": [
      "Train loss: 0.4717, acc: 0.8530\n",
      "Val   loss: 1.9478, acc: 0.7288\n",
      "Saved best model with val acc: 0.7288\n",
      "------------------------------\n",
      "Epoch 35/50\n"
     ]
    },
    {
     "name": "stderr",
     "output_type": "stream",
     "text": [
      "                                                                                       \r"
     ]
    },
    {
     "name": "stdout",
     "output_type": "stream",
     "text": [
      "Train loss: 0.4526, acc: 0.8592\n",
      "Val   loss: 1.9756, acc: 0.7291\n",
      "Saved best model with val acc: 0.7291\n",
      "------------------------------\n",
      "Epoch 36/50\n"
     ]
    },
    {
     "name": "stderr",
     "output_type": "stream",
     "text": [
      "                                                                                       \r"
     ]
    },
    {
     "name": "stdout",
     "output_type": "stream",
     "text": [
      "Train loss: 0.4485, acc: 0.8609\n",
      "Val   loss: 2.0061, acc: 0.7259\n",
      "------------------------------\n",
      "Epoch 37/50\n"
     ]
    },
    {
     "name": "stderr",
     "output_type": "stream",
     "text": [
      "                                                                                       \r"
     ]
    },
    {
     "name": "stdout",
     "output_type": "stream",
     "text": [
      "Train loss: 0.4460, acc: 0.8609\n",
      "Val   loss: 2.0702, acc: 0.7304\n",
      "Saved best model with val acc: 0.7304\n",
      "------------------------------\n",
      "Epoch 38/50\n"
     ]
    },
    {
     "name": "stderr",
     "output_type": "stream",
     "text": [
      "                                                                                       \r"
     ]
    },
    {
     "name": "stdout",
     "output_type": "stream",
     "text": [
      "Train loss: 0.4406, acc: 0.8629\n",
      "Val   loss: 2.0263, acc: 0.7306\n",
      "Saved best model with val acc: 0.7306\n",
      "------------------------------\n",
      "Epoch 39/50\n"
     ]
    },
    {
     "name": "stderr",
     "output_type": "stream",
     "text": [
      "                                                                                       \r"
     ]
    },
    {
     "name": "stdout",
     "output_type": "stream",
     "text": [
      "Train loss: 0.4259, acc: 0.8664\n",
      "Val   loss: 2.0013, acc: 0.7284\n",
      "------------------------------\n",
      "Epoch 40/50\n"
     ]
    },
    {
     "name": "stderr",
     "output_type": "stream",
     "text": [
      "                                                                                       \r"
     ]
    },
    {
     "name": "stdout",
     "output_type": "stream",
     "text": [
      "Train loss: 0.4218, acc: 0.8687\n",
      "Val   loss: 2.0669, acc: 0.7289\n",
      "------------------------------\n",
      "Epoch 41/50\n"
     ]
    },
    {
     "name": "stderr",
     "output_type": "stream",
     "text": [
      "                                                                                       \r"
     ]
    },
    {
     "name": "stdout",
     "output_type": "stream",
     "text": [
      "Train loss: 0.4147, acc: 0.8703\n",
      "Val   loss: 2.0710, acc: 0.7324\n",
      "Saved best model with val acc: 0.7324\n",
      "------------------------------\n",
      "Epoch 42/50\n"
     ]
    },
    {
     "name": "stderr",
     "output_type": "stream",
     "text": [
      "                                                                                       \r"
     ]
    },
    {
     "name": "stdout",
     "output_type": "stream",
     "text": [
      "Train loss: 0.4135, acc: 0.8719\n",
      "Val   loss: 2.1766, acc: 0.7305\n",
      "------------------------------\n",
      "Epoch 43/50\n"
     ]
    },
    {
     "name": "stderr",
     "output_type": "stream",
     "text": [
      "                                                                                       \r"
     ]
    },
    {
     "name": "stdout",
     "output_type": "stream",
     "text": [
      "Train loss: 0.4078, acc: 0.8726\n",
      "Val   loss: 2.1081, acc: 0.7313\n",
      "------------------------------\n",
      "Epoch 44/50\n"
     ]
    },
    {
     "name": "stderr",
     "output_type": "stream",
     "text": [
      "                                                                                       \r"
     ]
    },
    {
     "name": "stdout",
     "output_type": "stream",
     "text": [
      "Train loss: 0.4005, acc: 0.8760\n",
      "Val   loss: 2.0567, acc: 0.7353\n",
      "Saved best model with val acc: 0.7353\n",
      "------------------------------\n",
      "Epoch 45/50\n"
     ]
    },
    {
     "name": "stderr",
     "output_type": "stream",
     "text": [
      "                                                                                       \r"
     ]
    },
    {
     "name": "stdout",
     "output_type": "stream",
     "text": [
      "Train loss: 0.3974, acc: 0.8762\n",
      "Val   loss: 2.1141, acc: 0.7353\n",
      "------------------------------\n",
      "Epoch 46/50\n"
     ]
    },
    {
     "name": "stderr",
     "output_type": "stream",
     "text": [
      "                                                                                       \r"
     ]
    },
    {
     "name": "stdout",
     "output_type": "stream",
     "text": [
      "Train loss: 0.3921, acc: 0.8787\n",
      "Val   loss: 2.0687, acc: 0.7321\n",
      "------------------------------\n",
      "Epoch 47/50\n"
     ]
    },
    {
     "name": "stderr",
     "output_type": "stream",
     "text": [
      "                                                                                       \r"
     ]
    },
    {
     "name": "stdout",
     "output_type": "stream",
     "text": [
      "Train loss: 0.3962, acc: 0.8762\n",
      "Val   loss: 2.0864, acc: 0.7304\n",
      "------------------------------\n",
      "Epoch 48/50\n"
     ]
    },
    {
     "name": "stderr",
     "output_type": "stream",
     "text": [
      "                                                                                       \r"
     ]
    },
    {
     "name": "stdout",
     "output_type": "stream",
     "text": [
      "Train loss: 0.3939, acc: 0.8769\n",
      "Val   loss: 2.0706, acc: 0.7328\n",
      "------------------------------\n",
      "Epoch 49/50\n"
     ]
    },
    {
     "name": "stderr",
     "output_type": "stream",
     "text": [
      "                                                                                       \r"
     ]
    },
    {
     "name": "stdout",
     "output_type": "stream",
     "text": [
      "Train loss: 0.3872, acc: 0.8797\n",
      "Val   loss: 2.0840, acc: 0.7327\n",
      "------------------------------\n",
      "Epoch 50/50\n"
     ]
    },
    {
     "name": "stderr",
     "output_type": "stream",
     "text": [
      "                                                                                       \r"
     ]
    },
    {
     "name": "stdout",
     "output_type": "stream",
     "text": [
      "Train loss: 0.3797, acc: 0.8810\n",
      "Val   loss: 2.0782, acc: 0.7364\n",
      "Saved best model with val acc: 0.7364\n",
      "------------------------------\n"
     ]
    },
    {
     "data": {
      "image/png": "[encoded data removed]",
      "text/plain": [
       "<Figure size 1200x500 with 2 Axes>"
      ]
     },
     "metadata": {},
     "output_type": "display_data"
    }
   ],
   "source": [
    "\n",
    "train_model(model, train_loader, val_loader, device=device, epochs=50, lr=1e-3, save_path=\"save_model/cnn_model.pth\", model_name=\"CNN\")"
   ]
  },
  {
   "cell_type": "code",
   "execution_count": null,
   "id": "f7d513a6",
   "metadata": {},
   "outputs": [],
   "source": []
  },
  {
   "cell_type": "code",
   "execution_count": null,
   "id": "a55b3950",
   "metadata": {},
   "outputs": [],
   "source": []
  },
  {
   "cell_type": "code",
   "execution_count": null,
   "id": "735b3fdc",
   "metadata": {},
   "outputs": [],
   "source": []
  },
  {
   "cell_type": "code",
   "execution_count": null,
   "id": "fdb83503",
   "metadata": {},
   "outputs": [],
   "source": []
  },
  {
   "cell_type": "code",
   "execution_count": null,
   "id": "ae53bc6b",
   "metadata": {},
   "outputs": [],
   "source": []
  },
  {
   "cell_type": "code",
   "execution_count": null,
   "id": "0abf05ba",
   "metadata": {},
   "outputs": [],
   "source": []
  },
  {
   "cell_type": "code",
   "execution_count": null,
   "id": "6341a222",
   "metadata": {},
   "outputs": [],
   "source": []
  },
  {
   "cell_type": "code",
   "execution_count": null,
   "id": "cc5cab90",
   "metadata": {},
   "outputs": [],
   "source": []
  },
  {
   "cell_type": "code",
   "execution_count": null,
   "id": "ccc69a9d",
   "metadata": {},
   "outputs": [],
   "source": []
  }
 ],
 "metadata": {
  "kernelspec": {
   "display_name": "env1",
   "language": "python",
   "name": "python3"
  },
  "language_info": {
   "codemirror_mode": {
    "name": "ipython",
    "version": 3
   },
   "file_extension": ".py",
   "mimetype": "text/x-python",
   "name": "python",
   "nbconvert_exporter": "python",
   "pygments_lexer": "ipython3",
   "version": "3.12.3"
  }
 },
 "nbformat": 4,
 "nbformat_minor": 5
}
