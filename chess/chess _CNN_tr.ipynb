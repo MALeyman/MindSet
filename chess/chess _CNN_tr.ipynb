{
 "cells": [
  {
   "cell_type": "markdown",
   "id": "5ac930c2",
   "metadata": {},
   "source": [
    "# Предсказание  следующего хода"
   ]
  },
  {
   "cell_type": "markdown",
   "id": "a6f3af0b",
   "metadata": {},
   "source": [
    "K/k — король  \n",
    "\n",
    "Q/q — ферзь  \n",
    "\n",
    "R/r — ладья  \n",
    "\n",
    "B/b — слон  \n",
    "\n",
    "N/n — конь  \n",
    "\n",
    "P/p — пешка  "
   ]
  },
  {
   "cell_type": "markdown",
   "id": "52726270",
   "metadata": {},
   "source": [
    "#### Расшифровка записи\n",
    "\n",
    "7k/5p1p/p2p1Pr1/1p4pQ/8/P1P5/2pr3P/2R2K2 w - - 0 1  \n",
    "\n",
    "w : ход белых  \n",
    "\n",
    "— : рокировка невозможна  \n",
    "\n",
    "— : нет возможности взятия на проходе  \n",
    "\n",
    "0 : 0 полуходов прошло с последнего хода пешки или взятия  \n",
    "\n",
    "1 : первый полный ход партии (начало)  "
   ]
  },
  {
   "cell_type": "code",
   "execution_count": 1,
   "id": "c89f2585",
   "metadata": {},
   "outputs": [],
   "source": [
    "path_dataset_1 = 'data/fens_training_set.csv'\n",
    "\n",
    "path_dataset_2 = 'data/fens_processed_no_turn.csv'"
   ]
  },
  {
   "cell_type": "markdown",
   "id": "ebb17a6b",
   "metadata": {},
   "source": [
    "## 2. Датасет"
   ]
  },
  {
   "cell_type": "code",
   "execution_count": null,
   "id": "e66d5d8a",
   "metadata": {},
   "outputs": [
    {
     "name": "stdout",
     "output_type": "stream",
     "text": [
      "torch.Size([13, 8, 8])\n",
      "torch.Size([4])\n",
      "tensor(2517)\n",
      "torch.Size([1, 13, 8, 8])\n",
      "torch.Size([1, 4])\n",
      "torch.Size([1])\n"
     ]
    }
   ],
   "source": [
    "from utils.dataset import ChessDataset\n",
    "import torch\n",
    "\n",
    "\n",
    "dataset = ChessDataset(path_dataset_2)\n",
    "for board, castling, label in dataset:\n",
    "    print(board.shape)  \n",
    "    print(castling.shape)    \n",
    "    print(label)        \n",
    "    break\n",
    "\n",
    "\n",
    "dataloader = torch.utils.data.DataLoader(dataset, batch_size=1, shuffle=True)\n",
    "\n",
    "for board, castling, label in dataloader:\n",
    "    print(board.shape)  \n",
    "    print(castling.shape)     \n",
    "    print(label.shape) \n",
    "    break\n",
    "\n"
   ]
  },
  {
   "cell_type": "markdown",
   "id": "2b33ce34",
   "metadata": {},
   "source": [
    "## 3. Модель"
   ]
  },
  {
   "cell_type": "code",
   "execution_count": null,
   "id": "182a0d63",
   "metadata": {},
   "outputs": [
    {
     "name": "stdout",
     "output_type": "stream",
     "text": [
      "torch.Size([1, 4096])\n"
     ]
    },
    {
     "name": "stderr",
     "output_type": "stream",
     "text": [
      "/home/maksim/develops/python/env1/lib/python3.12/site-packages/torch/nn/modules/transformer.py:382: UserWarning: enable_nested_tensor is True, but self.use_nested_tensor is False because encoder_layer.self_attn.batch_first was not True(use batch_first for better inference performance)\n",
      "  warnings.warn(\n"
     ]
    }
   ],
   "source": [
    "from utils.models import CNNTransformerChessNet\n",
    "\n",
    "model = CNNTransformerChessNet(num_channels=13, castling_features=4, num_classes=4096)\n",
    "\n",
    "logits = model(board, castling)          \n",
    "\n",
    "print(logits.shape)  # [batch_size, 4096]\n"
   ]
  },
  {
   "cell_type": "code",
   "execution_count": 12,
   "id": "bac1323c",
   "metadata": {},
   "outputs": [
    {
     "data": {
      "text/plain": [
       "tensor([[-0.2691,  0.4833,  0.5851,  ...,  0.5098,  0.0088, -0.1119]],\n",
       "       grad_fn=<AddmmBackward0>)"
      ]
     },
     "execution_count": 12,
     "metadata": {},
     "output_type": "execute_result"
    }
   ],
   "source": [
    "logits"
   ]
  },
  {
   "cell_type": "markdown",
   "id": "93155d67",
   "metadata": {},
   "source": [
    "## Тренировка"
   ]
  },
  {
   "cell_type": "code",
   "execution_count": null,
   "id": "2185f7a1",
   "metadata": {},
   "outputs": [],
   "source": [
    "from utils.dataset import create_data_loaders_from_csv\n",
    "\n",
    "dataset = ChessDataset(path_dataset_2)\n",
    "\n",
    "train_loader, val_loader = create_data_loaders_from_csv(dataset, batch_size=2048, val_split=0.3)\n"
   ]
  },
  {
   "cell_type": "code",
   "execution_count": 17,
   "id": "f55e016e",
   "metadata": {},
   "outputs": [
    {
     "data": {
      "text/plain": [
       "<All keys matched successfully>"
      ]
     },
     "execution_count": 17,
     "metadata": {},
     "output_type": "execute_result"
    }
   ],
   "source": [
    "\n",
    "device = torch.device(\"cuda\" if torch.cuda.is_available() else \"cpu\")\n",
    "model.to(device)\n",
    "model.load_state_dict(torch.load(\"save_model/cnn_tr_model.pth\", map_location=torch.device(device)))  "
   ]
  },
  {
   "cell_type": "code",
   "execution_count": 19,
   "id": "b112f64d",
   "metadata": {},
   "outputs": [
    {
     "name": "stdout",
     "output_type": "stream",
     "text": [
      "Epoch 1/50\n"
     ]
    },
    {
     "name": "stderr",
     "output_type": "stream",
     "text": [
      "                                                                                      \r"
     ]
    },
    {
     "name": "stdout",
     "output_type": "stream",
     "text": [
      "Train loss: 2.3119, acc: 0.3919\n",
      "Val   loss: 1.5946, acc: 0.5541\n",
      "Saved best model with val acc: 0.5541\n",
      "------------------------------\n",
      "Epoch 2/50\n"
     ]
    },
    {
     "name": "stderr",
     "output_type": "stream",
     "text": [
      "                                                                                      \r"
     ]
    },
    {
     "name": "stdout",
     "output_type": "stream",
     "text": [
      "Train loss: 2.0421, acc: 0.4439\n",
      "Val   loss: 1.4931, acc: 0.5890\n",
      "Saved best model with val acc: 0.5890\n",
      "------------------------------\n",
      "Epoch 3/50\n"
     ]
    },
    {
     "name": "stderr",
     "output_type": "stream",
     "text": [
      "                                                                                      \r"
     ]
    },
    {
     "name": "stdout",
     "output_type": "stream",
     "text": [
      "Train loss: 1.8690, acc: 0.4785\n",
      "Val   loss: 1.4026, acc: 0.6159\n",
      "Saved best model with val acc: 0.6159\n",
      "------------------------------\n",
      "Epoch 4/50\n"
     ]
    },
    {
     "name": "stderr",
     "output_type": "stream",
     "text": [
      "                                                                                      \r"
     ]
    },
    {
     "name": "stdout",
     "output_type": "stream",
     "text": [
      "Train loss: 1.6932, acc: 0.5170\n",
      "Val   loss: 1.3081, acc: 0.6478\n",
      "Saved best model with val acc: 0.6478\n",
      "------------------------------\n",
      "Epoch 5/50\n"
     ]
    },
    {
     "name": "stderr",
     "output_type": "stream",
     "text": [
      "                                                                                      \r"
     ]
    },
    {
     "name": "stdout",
     "output_type": "stream",
     "text": [
      "Train loss: 1.5160, acc: 0.5595\n",
      "Val   loss: 1.2558, acc: 0.6724\n",
      "Saved best model with val acc: 0.6724\n",
      "------------------------------\n",
      "Epoch 6/50\n"
     ]
    },
    {
     "name": "stderr",
     "output_type": "stream",
     "text": [
      "                                                                                      \r"
     ]
    },
    {
     "name": "stdout",
     "output_type": "stream",
     "text": [
      "Train loss: 1.3447, acc: 0.6035\n",
      "Val   loss: 1.1773, acc: 0.6990\n",
      "Saved best model with val acc: 0.6990\n",
      "------------------------------\n",
      "Epoch 7/50\n"
     ]
    },
    {
     "name": "stderr",
     "output_type": "stream",
     "text": [
      "                                                                                      \r"
     ]
    },
    {
     "name": "stdout",
     "output_type": "stream",
     "text": [
      "Train loss: 1.1933, acc: 0.6430\n",
      "Val   loss: 1.1480, acc: 0.7159\n",
      "Saved best model with val acc: 0.7159\n",
      "------------------------------\n",
      "Epoch 8/50\n"
     ]
    },
    {
     "name": "stderr",
     "output_type": "stream",
     "text": [
      "                                                                                      \r"
     ]
    },
    {
     "name": "stdout",
     "output_type": "stream",
     "text": [
      "Train loss: 1.0619, acc: 0.6789\n",
      "Val   loss: 1.1262, acc: 0.7321\n",
      "Saved best model with val acc: 0.7321\n",
      "------------------------------\n",
      "Epoch 9/50\n"
     ]
    },
    {
     "name": "stderr",
     "output_type": "stream",
     "text": [
      "                                                                                      \r"
     ]
    },
    {
     "name": "stdout",
     "output_type": "stream",
     "text": [
      "Train loss: 0.9547, acc: 0.7087\n",
      "Val   loss: 1.1238, acc: 0.7403\n",
      "Saved best model with val acc: 0.7403\n",
      "------------------------------\n",
      "Epoch 10/50\n"
     ]
    },
    {
     "name": "stderr",
     "output_type": "stream",
     "text": [
      "                                                                                      \r"
     ]
    },
    {
     "name": "stdout",
     "output_type": "stream",
     "text": [
      "Train loss: 0.8693, acc: 0.7342\n",
      "Val   loss: 1.1191, acc: 0.7480\n",
      "Saved best model with val acc: 0.7480\n",
      "------------------------------\n",
      "Epoch 11/50\n"
     ]
    },
    {
     "name": "stderr",
     "output_type": "stream",
     "text": [
      "                                                                                      \r"
     ]
    },
    {
     "name": "stdout",
     "output_type": "stream",
     "text": [
      "Train loss: 0.7930, acc: 0.7553\n",
      "Val   loss: 1.1471, acc: 0.7516\n",
      "Saved best model with val acc: 0.7516\n",
      "------------------------------\n",
      "Epoch 12/50\n"
     ]
    },
    {
     "name": "stderr",
     "output_type": "stream",
     "text": [
      "                                                                                      \r"
     ]
    },
    {
     "name": "stdout",
     "output_type": "stream",
     "text": [
      "Train loss: 0.7258, acc: 0.7766\n",
      "Val   loss: 1.1602, acc: 0.7549\n",
      "Saved best model with val acc: 0.7549\n",
      "------------------------------\n",
      "Epoch 13/50\n"
     ]
    },
    {
     "name": "stderr",
     "output_type": "stream",
     "text": [
      "                                                                                      \r"
     ]
    },
    {
     "name": "stdout",
     "output_type": "stream",
     "text": [
      "Train loss: 0.6771, acc: 0.7905\n",
      "Val   loss: 1.1663, acc: 0.7594\n",
      "Saved best model with val acc: 0.7594\n",
      "------------------------------\n",
      "Epoch 14/50\n"
     ]
    },
    {
     "name": "stderr",
     "output_type": "stream",
     "text": [
      "                                                                                      \r"
     ]
    },
    {
     "name": "stdout",
     "output_type": "stream",
     "text": [
      "Train loss: 0.6331, acc: 0.8045\n",
      "Val   loss: 1.1636, acc: 0.7607\n",
      "Saved best model with val acc: 0.7607\n",
      "------------------------------\n",
      "Epoch 15/50\n"
     ]
    },
    {
     "name": "stderr",
     "output_type": "stream",
     "text": [
      "                                                                                      \r"
     ]
    },
    {
     "name": "stdout",
     "output_type": "stream",
     "text": [
      "Train loss: 0.5972, acc: 0.8150\n",
      "Val   loss: 1.1867, acc: 0.7616\n",
      "Saved best model with val acc: 0.7616\n",
      "------------------------------\n",
      "Epoch 16/50\n"
     ]
    },
    {
     "name": "stderr",
     "output_type": "stream",
     "text": [
      "                                                                                      \r"
     ]
    },
    {
     "name": "stdout",
     "output_type": "stream",
     "text": [
      "Train loss: 0.5702, acc: 0.8237\n",
      "Val   loss: 1.2011, acc: 0.7629\n",
      "Saved best model with val acc: 0.7629\n",
      "------------------------------\n",
      "Epoch 17/50\n"
     ]
    },
    {
     "name": "stderr",
     "output_type": "stream",
     "text": [
      "                                                                                      \r"
     ]
    },
    {
     "name": "stdout",
     "output_type": "stream",
     "text": [
      "Train loss: 0.5469, acc: 0.8298\n",
      "Val   loss: 1.2051, acc: 0.7632\n",
      "Saved best model with val acc: 0.7632\n",
      "------------------------------\n",
      "Epoch 18/50\n"
     ]
    },
    {
     "name": "stderr",
     "output_type": "stream",
     "text": [
      "                                                                                      \r"
     ]
    },
    {
     "name": "stdout",
     "output_type": "stream",
     "text": [
      "Train loss: 0.5223, acc: 0.8380\n",
      "Val   loss: 1.2052, acc: 0.7633\n",
      "Saved best model with val acc: 0.7633\n",
      "------------------------------\n",
      "Epoch 19/50\n"
     ]
    },
    {
     "name": "stderr",
     "output_type": "stream",
     "text": [
      "                                                                                      \r"
     ]
    },
    {
     "name": "stdout",
     "output_type": "stream",
     "text": [
      "Train loss: 0.5076, acc: 0.8428\n",
      "Val   loss: 1.2299, acc: 0.7639\n",
      "Saved best model with val acc: 0.7639\n",
      "------------------------------\n",
      "Epoch 20/50\n"
     ]
    },
    {
     "name": "stderr",
     "output_type": "stream",
     "text": [
      "                                                                                      \r"
     ]
    },
    {
     "name": "stdout",
     "output_type": "stream",
     "text": [
      "Train loss: 0.4854, acc: 0.8494\n",
      "Val   loss: 1.2474, acc: 0.7630\n",
      "------------------------------\n",
      "Epoch 21/50\n"
     ]
    },
    {
     "name": "stderr",
     "output_type": "stream",
     "text": [
      "                                                                                      \r"
     ]
    },
    {
     "name": "stdout",
     "output_type": "stream",
     "text": [
      "Train loss: 0.4751, acc: 0.8521\n",
      "Val   loss: 1.2515, acc: 0.7628\n",
      "------------------------------\n",
      "Epoch 22/50\n"
     ]
    },
    {
     "name": "stderr",
     "output_type": "stream",
     "text": [
      "                                                                                      \r"
     ]
    },
    {
     "name": "stdout",
     "output_type": "stream",
     "text": [
      "Train loss: 0.4596, acc: 0.8578\n",
      "Val   loss: 1.2885, acc: 0.7649\n",
      "Saved best model with val acc: 0.7649\n",
      "------------------------------\n",
      "Epoch 23/50\n"
     ]
    },
    {
     "name": "stderr",
     "output_type": "stream",
     "text": [
      "                                                                                      \r"
     ]
    },
    {
     "name": "stdout",
     "output_type": "stream",
     "text": [
      "Train loss: 0.4450, acc: 0.8616\n",
      "Val   loss: 1.2834, acc: 0.7636\n",
      "------------------------------\n",
      "Epoch 24/50\n"
     ]
    },
    {
     "name": "stderr",
     "output_type": "stream",
     "text": [
      "                                                                                      \r"
     ]
    },
    {
     "name": "stdout",
     "output_type": "stream",
     "text": [
      "Train loss: 0.4362, acc: 0.8643\n",
      "Val   loss: 1.2974, acc: 0.7622\n",
      "------------------------------\n",
      "Epoch 25/50\n"
     ]
    },
    {
     "name": "stderr",
     "output_type": "stream",
     "text": [
      "                                                                                      \r"
     ]
    },
    {
     "name": "stdout",
     "output_type": "stream",
     "text": [
      "Train loss: 0.4269, acc: 0.8681\n",
      "Val   loss: 1.2966, acc: 0.7633\n",
      "------------------------------\n",
      "Epoch 26/50\n"
     ]
    },
    {
     "name": "stderr",
     "output_type": "stream",
     "text": [
      "                                                                                      \r"
     ]
    },
    {
     "name": "stdout",
     "output_type": "stream",
     "text": [
      "Train loss: 0.4223, acc: 0.8689\n",
      "Val   loss: 1.3225, acc: 0.7634\n",
      "------------------------------\n",
      "Epoch 27/50\n"
     ]
    },
    {
     "name": "stderr",
     "output_type": "stream",
     "text": [
      "                                                                                      \r"
     ]
    },
    {
     "name": "stdout",
     "output_type": "stream",
     "text": [
      "Train loss: 0.4167, acc: 0.8707\n",
      "Val   loss: 1.3166, acc: 0.7621\n",
      "------------------------------\n",
      "Epoch 28/50\n"
     ]
    },
    {
     "name": "stderr",
     "output_type": "stream",
     "text": [
      "                                                                                      \r"
     ]
    },
    {
     "name": "stdout",
     "output_type": "stream",
     "text": [
      "Train loss: 0.4122, acc: 0.8723\n",
      "Val   loss: 1.3264, acc: 0.7635\n",
      "------------------------------\n",
      "Epoch 29/50\n"
     ]
    },
    {
     "name": "stderr",
     "output_type": "stream",
     "text": [
      "                                                                                      \r"
     ]
    },
    {
     "name": "stdout",
     "output_type": "stream",
     "text": [
      "Train loss: 0.4023, acc: 0.8759\n",
      "Val   loss: 1.3340, acc: 0.7643\n",
      "------------------------------\n",
      "Epoch 30/50\n"
     ]
    },
    {
     "name": "stderr",
     "output_type": "stream",
     "text": [
      "                                                                                      \r"
     ]
    },
    {
     "name": "stdout",
     "output_type": "stream",
     "text": [
      "Train loss: 0.3993, acc: 0.8769\n",
      "Val   loss: 1.3296, acc: 0.7634\n",
      "------------------------------\n",
      "Epoch 31/50\n"
     ]
    },
    {
     "name": "stderr",
     "output_type": "stream",
     "text": [
      "                                                                                      \r"
     ]
    },
    {
     "name": "stdout",
     "output_type": "stream",
     "text": [
      "Train loss: 0.3934, acc: 0.8782\n",
      "Val   loss: 1.3588, acc: 0.7629\n",
      "------------------------------\n",
      "Epoch 32/50\n"
     ]
    },
    {
     "name": "stderr",
     "output_type": "stream",
     "text": [
      "                                                                                      \r"
     ]
    },
    {
     "name": "stdout",
     "output_type": "stream",
     "text": [
      "Train loss: 0.3869, acc: 0.8813\n",
      "Val   loss: 1.4031, acc: 0.7616\n",
      "------------------------------\n",
      "Epoch 33/50\n"
     ]
    },
    {
     "name": "stderr",
     "output_type": "stream",
     "text": [
      "                                                                                      \r"
     ]
    },
    {
     "name": "stdout",
     "output_type": "stream",
     "text": [
      "Train loss: 0.3794, acc: 0.8824\n",
      "Val   loss: 1.3901, acc: 0.7642\n",
      "------------------------------\n",
      "Epoch 34/50\n"
     ]
    },
    {
     "name": "stderr",
     "output_type": "stream",
     "text": [
      "                                                                                      \r"
     ]
    },
    {
     "name": "stdout",
     "output_type": "stream",
     "text": [
      "Train loss: 0.3772, acc: 0.8836\n",
      "Val   loss: 1.3715, acc: 0.7627\n",
      "------------------------------\n",
      "Epoch 35/50\n"
     ]
    },
    {
     "name": "stderr",
     "output_type": "stream",
     "text": [
      "                                                                                      \r"
     ]
    },
    {
     "name": "stdout",
     "output_type": "stream",
     "text": [
      "Train loss: 0.3713, acc: 0.8852\n",
      "Val   loss: 1.4115, acc: 0.7618\n",
      "------------------------------\n",
      "Epoch 36/50\n"
     ]
    },
    {
     "name": "stderr",
     "output_type": "stream",
     "text": [
      "                                                                                      \r"
     ]
    },
    {
     "name": "stdout",
     "output_type": "stream",
     "text": [
      "Train loss: 0.3694, acc: 0.8853\n",
      "Val   loss: 1.3817, acc: 0.7626\n",
      "------------------------------\n",
      "Epoch 37/50\n"
     ]
    },
    {
     "name": "stderr",
     "output_type": "stream",
     "text": [
      "                                                                                      \r"
     ]
    },
    {
     "name": "stdout",
     "output_type": "stream",
     "text": [
      "Train loss: 0.3664, acc: 0.8857\n",
      "Val   loss: 1.4174, acc: 0.7609\n",
      "------------------------------\n",
      "Epoch 38/50\n"
     ]
    },
    {
     "name": "stderr",
     "output_type": "stream",
     "text": [
      "                                                                                      \r"
     ]
    },
    {
     "name": "stdout",
     "output_type": "stream",
     "text": [
      "Train loss: 0.3667, acc: 0.8868\n",
      "Val   loss: 1.3906, acc: 0.7597\n",
      "------------------------------\n",
      "Epoch 39/50\n"
     ]
    },
    {
     "name": "stderr",
     "output_type": "stream",
     "text": [
      "                                                                                      \r"
     ]
    },
    {
     "name": "stdout",
     "output_type": "stream",
     "text": [
      "Train loss: 0.3650, acc: 0.8865\n",
      "Val   loss: 1.4401, acc: 0.7619\n",
      "------------------------------\n",
      "Epoch 40/50\n"
     ]
    },
    {
     "name": "stderr",
     "output_type": "stream",
     "text": [
      "                                                                                      \r"
     ]
    },
    {
     "name": "stdout",
     "output_type": "stream",
     "text": [
      "Train loss: 0.3606, acc: 0.8891\n",
      "Val   loss: 1.3935, acc: 0.7612\n",
      "------------------------------\n",
      "Epoch 41/50\n"
     ]
    },
    {
     "name": "stderr",
     "output_type": "stream",
     "text": [
      "                                                                                      \r"
     ]
    },
    {
     "name": "stdout",
     "output_type": "stream",
     "text": [
      "Train loss: 0.3570, acc: 0.8894\n",
      "Val   loss: 1.4039, acc: 0.7618\n",
      "------------------------------\n",
      "Epoch 42/50\n"
     ]
    },
    {
     "name": "stderr",
     "output_type": "stream",
     "text": [
      "                                                                                      \r"
     ]
    },
    {
     "name": "stdout",
     "output_type": "stream",
     "text": [
      "Train loss: 0.3523, acc: 0.8905\n",
      "Val   loss: 1.4018, acc: 0.7626\n",
      "------------------------------\n",
      "Epoch 43/50\n"
     ]
    },
    {
     "name": "stderr",
     "output_type": "stream",
     "text": [
      "                                                                                      \r"
     ]
    },
    {
     "name": "stdout",
     "output_type": "stream",
     "text": [
      "Train loss: 0.3473, acc: 0.8926\n",
      "Val   loss: 1.4168, acc: 0.7624\n",
      "------------------------------\n",
      "Epoch 44/50\n"
     ]
    },
    {
     "name": "stderr",
     "output_type": "stream",
     "text": [
      "                                                                                      \r"
     ]
    },
    {
     "name": "stdout",
     "output_type": "stream",
     "text": [
      "Train loss: 0.3459, acc: 0.8928\n",
      "Val   loss: 1.3990, acc: 0.7633\n",
      "------------------------------\n",
      "Epoch 45/50\n"
     ]
    },
    {
     "name": "stderr",
     "output_type": "stream",
     "text": [
      "                                                                                      \r"
     ]
    },
    {
     "name": "stdout",
     "output_type": "stream",
     "text": [
      "Train loss: 0.3454, acc: 0.8928\n",
      "Val   loss: 1.4401, acc: 0.7629\n",
      "------------------------------\n",
      "Epoch 46/50\n"
     ]
    },
    {
     "name": "stderr",
     "output_type": "stream",
     "text": [
      "                                                                                      \r"
     ]
    },
    {
     "name": "stdout",
     "output_type": "stream",
     "text": [
      "Train loss: 0.3418, acc: 0.8942\n",
      "Val   loss: 1.4068, acc: 0.7610\n",
      "------------------------------\n",
      "Epoch 47/50\n"
     ]
    },
    {
     "name": "stderr",
     "output_type": "stream",
     "text": [
      "                                                                                      \r"
     ]
    },
    {
     "name": "stdout",
     "output_type": "stream",
     "text": [
      "Train loss: 0.3419, acc: 0.8947\n",
      "Val   loss: 1.4152, acc: 0.7606\n",
      "------------------------------\n",
      "Epoch 48/50\n"
     ]
    },
    {
     "name": "stderr",
     "output_type": "stream",
     "text": [
      "                                                                                      \r"
     ]
    },
    {
     "name": "stdout",
     "output_type": "stream",
     "text": [
      "Train loss: 0.3373, acc: 0.8953\n",
      "Val   loss: 1.3956, acc: 0.7619\n",
      "------------------------------\n",
      "Epoch 49/50\n"
     ]
    },
    {
     "name": "stderr",
     "output_type": "stream",
     "text": [
      "                                                                                      \r"
     ]
    },
    {
     "name": "stdout",
     "output_type": "stream",
     "text": [
      "Train loss: 0.3369, acc: 0.8964\n",
      "Val   loss: 1.4598, acc: 0.7612\n",
      "------------------------------\n",
      "Epoch 50/50\n"
     ]
    },
    {
     "name": "stderr",
     "output_type": "stream",
     "text": [
      "                                                                                      "
     ]
    },
    {
     "name": "stdout",
     "output_type": "stream",
     "text": [
      "Train loss: 0.3338, acc: 0.8970\n",
      "Val   loss: 1.4176, acc: 0.7613\n",
      "------------------------------\n"
     ]
    },
    {
     "name": "stderr",
     "output_type": "stream",
     "text": [
      "\r"
     ]
    },
    {
     "data": {
      "image/png": "[encoded data removed]",
      "text/plain": [
       "<Figure size 1200x500 with 2 Axes>"
      ]
     },
     "metadata": {},
     "output_type": "display_data"
    }
   ],
   "source": [
    "from utils.train import train_model\n",
    "train_model(model, train_loader, val_loader, device=device, epochs=10, lr=1e-3, save_path=\"save_model/cnn_tr_model.pth\", model_name=\"CNNTransformer\")"
   ]
  },
  {
   "cell_type": "code",
   "execution_count": null,
   "id": "f7d513a6",
   "metadata": {},
   "outputs": [],
   "source": []
  },
  {
   "cell_type": "code",
   "execution_count": null,
   "id": "a55b3950",
   "metadata": {},
   "outputs": [],
   "source": []
  },
  {
   "cell_type": "code",
   "execution_count": null,
   "id": "735b3fdc",
   "metadata": {},
   "outputs": [],
   "source": []
  },
  {
   "cell_type": "code",
   "execution_count": null,
   "id": "fdb83503",
   "metadata": {},
   "outputs": [],
   "source": []
  },
  {
   "cell_type": "code",
   "execution_count": null,
   "id": "ae53bc6b",
   "metadata": {},
   "outputs": [],
   "source": []
  },
  {
   "cell_type": "code",
   "execution_count": null,
   "id": "0abf05ba",
   "metadata": {},
   "outputs": [],
   "source": []
  },
  {
   "cell_type": "code",
   "execution_count": null,
   "id": "6341a222",
   "metadata": {},
   "outputs": [],
   "source": []
  },
  {
   "cell_type": "code",
   "execution_count": null,
   "id": "cc5cab90",
   "metadata": {},
   "outputs": [],
   "source": []
  },
  {
   "cell_type": "code",
   "execution_count": null,
   "id": "ccc69a9d",
   "metadata": {},
   "outputs": [],
   "source": []
  }
 ],
 "metadata": {
  "kernelspec": {
   "display_name": "env1",
   "language": "python",
   "name": "python3"
  },
  "language_info": {
   "codemirror_mode": {
    "name": "ipython",
    "version": 3
   },
   "file_extension": ".py",
   "mimetype": "text/x-python",
   "name": "python",
   "nbconvert_exporter": "python",
   "pygments_lexer": "ipython3",
   "version": "3.12.3"
  }
 },
 "nbformat": 4,
 "nbformat_minor": 5
}
